{
 "cells": [
  {
   "cell_type": "markdown",
   "id": "8c12abc2",
   "metadata": {},
   "source": [
    "### 5. Algorithmic question\n",
    "You consult for a personal trainer who has a *back-to-back sequence* of requests for appointment. A sequence of requests is of the form > 30, 40, 25, 50, 30, 20 where each number is the time that the person who makes the appointment wants to spend. You need to accept some requests, however you need a break between them, so you cannot accept two consecutive requests. For example, `[30, 50, 20]` is an acceptable solution (of duration *100*), but `[30, 40, 50, 20]` is not because *30* and *40* are two consecutive appointments. Your goal is to provide to the personal trainer a schedule that maximizes the total lenght of the accepted appointments. For example, in the previous instance, the optimal solution is `[40, 50, 20]`, of total duration *110*.\n",
    "1. Write an algorithm that computes the acceptable solution with the longest possible duration.\n",
    "2. Implement a program that given in input an instance in the form given above, gives the optimal solution."
   ]
  },
  {
   "cell_type": "markdown",
   "id": "286025fc",
   "metadata": {},
   "source": [
    "#### 1. Write an algorithm that computes the acceptable solution with the longest possible duration. "
   ]
  },
  {
   "cell_type": "markdown",
   "id": "2762f68f",
   "metadata": {},
   "source": [
    "\n",
    "        Input:\n",
    "            A: array of length n\n",
    "\n",
    "        function alg(A):\n",
    "            S <- array of length n to memorize all the sums\n",
    "            dict = {}\n",
    "            for i in n:\n",
    "                S[i] = max(S[i-1], S[i-2] + A[i])\n",
    "                if max(S[i-1], S[i-2] + A[i]) == (S[i-2] + A[i]):\n",
    "                    dict[S[i-2], A[i]] = S[i]\n",
    "            list <- list containing the number of the optimal solution\n",
    "            individual <- 2nd index of the keys\n",
    "            cumulative <- 1st index of the keys\n",
    "            \n",
    "            Extract all the individual values and \n",
    "            list.append(individual)\n",
    "\n",
    "            return A, list"
   ]
  },
  {
   "cell_type": "markdown",
   "id": "996874f2",
   "metadata": {},
   "source": [
    "#### 2. Implement a program that given in input an instance in the form given above, gives the optimal solution."
   ]
  },
  {
   "cell_type": "code",
   "execution_count": 1,
   "id": "e59e736f",
   "metadata": {},
   "outputs": [],
   "source": [
    "def my_schedule(array):\n",
    "    # Create an array we can use to memorize sums\n",
    "    S = [0 for j in range(len(array))]\n",
    "    \n",
    "    # Create a dictionary to store all the accepted appointments\n",
    "    accepted = dict()\n",
    "    \n",
    "    for i in range(len(array)):\n",
    "        # Memorize the maximum non consecutive sum between elements in the array\n",
    "        # It chooses between the last maximum sum and the one updated \n",
    "        # with the i-th element.\n",
    "        S[i] = max(S[i-1], S[i-2] + array[i])\n",
    "        \n",
    "        # Add the accepted appointment\n",
    "        if max(S[i-1], S[i-2] + array[i]) == (S[i-2] + array[i]):\n",
    "            accepted[S[i-2], array[i]] = S[i]\n",
    "            \n",
    "    # Retrieving the numbers that produce the optimal solution\n",
    "    \n",
    "    # List that contains the number that produce the optimal solution\n",
    "    list_of_success = []\n",
    "    \n",
    "    # Defining the max value of the dictionary to start the while loop\n",
    "    max_value = max(accepted.values())\n",
    "    \n",
    "    # Defining a stop clause which is the cumulative sum or the 1st index of the keys\n",
    "    stop_clause = list(accepted.keys())[list(accepted.values()).index(max_value)][0]\n",
    "    \n",
    "    # Stop until the cumulative value is equal to zero, which means we finished the list\n",
    "    while stop_clause != 0:\n",
    "        \n",
    "        # Suppose we have an entry of a dictionary that is (130, 110): 240\n",
    "        # Define the first index of the key, i.e. 130, as the cumulative number\n",
    "        # Define the second index of the key, i.e. 110, as the individual number\n",
    "        \n",
    "        individual_value = list(accepted.keys())[list(accepted.values()).index(max_value)][1]\n",
    "        cumulative_value = list(accepted.keys())[list(accepted.values()).index(max_value)][0]\n",
    "        \n",
    "        # We append the individual value to the list, since this number is part of the optimal solution\n",
    "        list_of_success.append(individual_value)\n",
    "        \n",
    "        # Redefine the max value as\n",
    "        max_value = cumulative_value\n",
    "        stop_clause = cumulative_value\n",
    "        \n",
    "    # Reversing the list that contains the numbers of the optimal solution,\n",
    "    # so they appear in the original order.\n",
    "    list_of_success.reverse()\n",
    "    \n",
    "    return S[-1], list_of_success"
   ]
  },
  {
   "cell_type": "code",
   "execution_count": 2,
   "id": "d1886d82",
   "metadata": {},
   "outputs": [
    {
     "name": "stdout",
     "output_type": "stream",
     "text": [
      "The optimal solution of accepted appointments is: [40, 50, 20]\n",
      "The total duration of appointments is: 110\n"
     ]
    }
   ],
   "source": [
    "appointments = [30, 40, 25, 50, 30, 20]\n",
    "tot, opt_sol = my_schedule(appointments)\n",
    "print('The optimal solution of accepted appointments is:', opt_sol)\n",
    "print('The total duration of appointments is:', tot)"
   ]
  },
  {
   "cell_type": "code",
   "execution_count": 3,
   "id": "159cc1a8",
   "metadata": {},
   "outputs": [
    {
     "name": "stdout",
     "output_type": "stream",
     "text": [
      "The optimal solution of accepted appointments is: [40, 90, 110]\n",
      "The total duration of appointments is: 240\n"
     ]
    }
   ],
   "source": [
    "# Try with different lists of appointments\n",
    "app1 = [30, 40, 55, 90, 90, 110]\n",
    "tot, opt_sol = my_schedule(app1)\n",
    "print('The optimal solution of accepted appointments is:', opt_sol)\n",
    "print('The total duration of appointments is:', tot)"
   ]
  },
  {
   "cell_type": "code",
   "execution_count": 8,
   "id": "4a10a7e0",
   "metadata": {},
   "outputs": [
    {
     "name": "stdout",
     "output_type": "stream",
     "text": [
      "The optimal solution of accepted appointments is: [30, 55, 90]\n",
      "The total duration of appointments is: 175\n"
     ]
    }
   ],
   "source": [
    "app2 = [30, 40, 55, 90, 90, 40]\n",
    "tot, opt_sol = my_schedule(app2)\n",
    "print('The optimal solution of accepted appointments is:', opt_sol)\n",
    "print('The total duration of appointments is:', tot)"
   ]
  }
 ],
 "metadata": {
  "kernelspec": {
   "display_name": "Python 3",
   "language": "python",
   "name": "python3"
  },
  "language_info": {
   "codemirror_mode": {
    "name": "ipython",
    "version": 3
   },
   "file_extension": ".py",
   "mimetype": "text/x-python",
   "name": "python",
   "nbconvert_exporter": "python",
   "pygments_lexer": "ipython3",
   "version": "3.8.8"
  }
 },
 "nbformat": 4,
 "nbformat_minor": 5
}
