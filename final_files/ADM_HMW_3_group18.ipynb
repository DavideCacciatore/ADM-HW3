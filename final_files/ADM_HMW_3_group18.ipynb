{
 "cells": [
  {
   "cell_type": "markdown",
   "id": "7aa29026",
   "metadata": {},
   "source": [
    "# Homework 3 - Algorithmic Methods of Data Mining"
   ]
  },
  {
   "cell_type": "code",
   "execution_count": 2,
   "id": "e79049b6",
   "metadata": {},
   "outputs": [
    {
     "name": "stdout",
     "output_type": "stream",
     "text": [
      "Requirement already satisfied: tabulate in c:\\users\\user\\anaconda3\\lib\\site-packages (0.8.9)\n"
     ]
    }
   ],
   "source": [
    "import os\n",
    "import time\n",
    "import multiprocessing as mp\n",
    "import ctypes\n",
    "import nltk\n",
    "from nltk.stem import PorterStemmer\n",
    "!pip3 install tabulate\n",
    "from tabulate import tabulate\n",
    "\n",
    "import list_urls as l_u\n",
    "import content_html as c_html\n",
    "import anime_information as a_info\n",
    "import vocabularize as voc"
   ]
  },
  {
   "cell_type": "markdown",
   "id": "defe2611",
   "metadata": {},
   "source": [
    "## 1. Data Collection\n",
    "\n",
    "We start from the list of animes to include in our corpus of documents. In particular, we focus on the top animes listed in the first 400 pages. From this list we want to collect the url associated to each anime in the list. The list is long and splitted in many pages. We ask you to retrieve only the urls of the animes listed in the first 400 pages (each page has 50 animes so you will end up with 20000 unique anime urls).\n",
    "The output of this step is a .txt file whose single line corresponds to an anime's url.\n",
    "\n",
    "### 1.1. Get the list of animes\n",
    "We extract from the main pages - the first 400 according to pagination - the urls og animes' web pages that will be retrieved in the next points."
   ]
  },
  {
   "cell_type": "code",
   "execution_count": 3,
   "id": "a4b0c327",
   "metadata": {},
   "outputs": [],
   "source": [
    "path = os.getcwd()\n",
    "# get the txt file with all the urls\n",
    "#l_u.parallelize_extraction()"
   ]
  },
  {
   "cell_type": "markdown",
   "id": "a23346d4",
   "metadata": {},
   "source": [
    "### 1.2. Get the html files from animes' urls previuosly collected\n",
    "We download - via url from previuos point - and memorize all the html files in a directory organized as follows:\n",
    "- a dir is created for each page, where each html in the main web page is collected."
   ]
  },
  {
   "cell_type": "code",
   "execution_count": null,
   "id": "2940f8ee",
   "metadata": {},
   "outputs": [],
   "source": [
    "# get the html files\n",
    "c_html.get_content()"
   ]
  },
  {
   "cell_type": "markdown",
   "id": "a832b443",
   "metadata": {},
   "source": [
    "### 1.3 Get the needed information about animes\n",
    "Here we read each html files previously collected to get the requested information from the web pages and we create tsv files to memorize them. Each directory - so each page - contains a directory where all the tsv of the corresponding html files is memorized."
   ]
  },
  {
   "cell_type": "code",
   "execution_count": null,
   "id": "d070f303",
   "metadata": {},
   "outputs": [],
   "source": [
    "# get the info about the animes\n",
    "a_info.parallelize_parsing(path)"
   ]
  },
  {
   "cell_type": "markdown",
   "id": "216cc7e3",
   "metadata": {},
   "source": [
    "## 2. Search Engine\n",
    "\n",
    "### 2.1 Conjunctive query\n",
    "\n",
    "#### 2.1.1 Create indeces\n",
    "After collecting the necessary data, we started focusing on the searh engine.\n",
    "We initialized some needed objects and files - JSON files."
   ]
  },
  {
   "cell_type": "code",
   "execution_count": 4,
   "id": "842f00c3",
   "metadata": {},
   "outputs": [
    {
     "name": "stderr",
     "output_type": "stream",
     "text": [
      "[nltk_data] Downloading package punkt to\n",
      "[nltk_data]     C:\\Users\\USER\\AppData\\Roaming\\nltk_data...\n",
      "[nltk_data]   Package punkt is already up-to-date!\n"
     ]
    }
   ],
   "source": [
    " # initialize object that will be needed: shared \"managed\" dictionaries\n",
    "manager = mp.Manager()\n",
    "vocabulary = manager.dict()\n",
    "inverted_index = manager.dict()\n",
    "complex_index = manager.dict()\n",
    "docs_short = manager.dict()\n",
    "#  shared \"managed\" counter and lock to control tasks incrementing the counter\n",
    "v = manager.Value(ctypes.c_ulonglong, 0)\n",
    "lock = manager.Lock()\n",
    "# stemming utilities\n",
    "nltk.download('punkt')\n",
    "porter = PorterStemmer()"
   ]
  },
  {
   "cell_type": "markdown",
   "id": "d8facc08",
   "metadata": {},
   "source": [
    "At this point, we computed some JSON files that we will use in the next points:\n",
    "\n",
    "    - Vocabulary: a txt file whose lines contain a pair, a pre-processed word and its unique code identifier;\n",
    "    \n",
    "    - Inverted_index : a JSON file whose line contain a pair, a word ID and a list of documents in which the word is present. The documents are represented as a string composed by the string document and their identification number;\n",
    "    \n",
    "    - Tf_complex_index : similar to inverted_index, but the list of documents contains tuples (document, tf index). At this point we only have the tf - we will get the Idf after."
   ]
  },
  {
   "cell_type": "code",
   "execution_count": null,
   "id": "ff9a7243",
   "metadata": {},
   "outputs": [],
   "source": [
    "# get JSON files for further calculations\n",
    "voc.parallelize_process_anime(path, vocabulary, inverted_index, complex_index, porter, v, lock)\n",
    "voc.write_index(vocabulary, \"vocabulary\")\n",
    "voc.write_index(inverted_index, \"inverted_index\")\n",
    "voc.write_index(complex_index, \"tf_complex_index\")"
   ]
  },
  {
   "cell_type": "markdown",
   "id": "60cff166",
   "metadata": {},
   "source": [
    "Now we compute two other documents which are needed to get the cosine-similarity: \n",
    "\n",
    "    - TfIdf_complex index : as the tf_complex_index, but with the tfIdf index instead of the tf one. Having two step was necessary since in order to compute the Idf index we needed some overall information, which was previously missing. After we got the information (stored in the inverted_index.json), the rest could be done;\n",
    "    \n",
    "    - Docs_short : a complementary json file needed to compute the custom measure."
   ]
  },
  {
   "cell_type": "code",
   "execution_count": null,
   "id": "4d6b57e5",
   "metadata": {},
   "outputs": [],
   "source": [
    "# at this point you have an incomplete complex_index since the number associated to each doc is only the tf part\n",
    "# get complete tfIdf complex_index\n",
    "voc.get_complex_index(complex_index)\n",
    "voc.write_index(complex_index, \"tfIdf_complex_index\")\n",
    "# get index with documents as key to retrieve information on members/popularity of each anime\n",
    "voc.parallelize_docs_short(path, docs_short, porter)\n",
    "voc.write_docs_short(docs_short)"
   ]
  },
  {
   "cell_type": "markdown",
   "id": "69d68fb0",
   "metadata": {},
   "source": [
    "#### 2.1.2 Execute the query"
   ]
  },
  {
   "cell_type": "code",
   "execution_count": 5,
   "id": "ba2163b9",
   "metadata": {},
   "outputs": [
    {
     "name": "stdout",
     "output_type": "stream",
     "text": [
      "Search keys - conjunctive query : saiyan race\n"
     ]
    },
    {
     "data": {
      "text/html": [
       "<div>\n",
       "<style scoped>\n",
       "    .dataframe tbody tr th:only-of-type {\n",
       "        vertical-align: middle;\n",
       "    }\n",
       "\n",
       "    .dataframe tbody tr th {\n",
       "        vertical-align: top;\n",
       "    }\n",
       "\n",
       "    .dataframe thead th {\n",
       "        text-align: right;\n",
       "    }\n",
       "</style>\n",
       "<table border=\"1\" class=\"dataframe\">\n",
       "  <thead>\n",
       "    <tr style=\"text-align: right;\">\n",
       "      <th></th>\n",
       "      <th>animeTitle</th>\n",
       "      <th>animeDescription</th>\n",
       "      <th>Url</th>\n",
       "    </tr>\n",
       "  </thead>\n",
       "  <tbody>\n",
       "    <tr>\n",
       "      <th>0</th>\n",
       "      <td>Dragon Ball Kai</td>\n",
       "      <td>Five years after the events of Dragon Ball, ma...</td>\n",
       "      <td>https://myanimelist.net/anime/6033/Dragon_Ball...</td>\n",
       "    </tr>\n",
       "    <tr>\n",
       "      <th>1</th>\n",
       "      <td>Dragon Ball Z</td>\n",
       "      <td>Five years after winning the World Martial Art...</td>\n",
       "      <td>https://myanimelist.net/anime/813/Dragon_Ball_Z\\n</td>\n",
       "    </tr>\n",
       "    <tr>\n",
       "      <th>2</th>\n",
       "      <td>Dragon Ball Super: Broly</td>\n",
       "      <td>Forty-one years ago on Planet Vegeta, home of ...</td>\n",
       "      <td>https://myanimelist.net/anime/36946/Dragon_Bal...</td>\n",
       "    </tr>\n",
       "    <tr>\n",
       "      <th>3</th>\n",
       "      <td>Dragon Ball Z Special 1: Tatta Hitori no Saish...</td>\n",
       "      <td>Bardock, Son Goku's father, is a low-ranking S...</td>\n",
       "      <td>https://myanimelist.net/anime/986/Dragon_Ball_...</td>\n",
       "    </tr>\n",
       "  </tbody>\n",
       "</table>\n",
       "</div>"
      ],
      "text/plain": [
       "                                          animeTitle  \\\n",
       "0                                    Dragon Ball Kai   \n",
       "1                                      Dragon Ball Z   \n",
       "2                           Dragon Ball Super: Broly   \n",
       "3  Dragon Ball Z Special 1: Tatta Hitori no Saish...   \n",
       "\n",
       "                                    animeDescription  \\\n",
       "0  Five years after the events of Dragon Ball, ma...   \n",
       "1  Five years after winning the World Martial Art...   \n",
       "2  Forty-one years ago on Planet Vegeta, home of ...   \n",
       "3  Bardock, Son Goku's father, is a low-ranking S...   \n",
       "\n",
       "                                                 Url  \n",
       "0  https://myanimelist.net/anime/6033/Dragon_Ball...  \n",
       "1  https://myanimelist.net/anime/813/Dragon_Ball_Z\\n  \n",
       "2  https://myanimelist.net/anime/36946/Dragon_Bal...  \n",
       "3  https://myanimelist.net/anime/986/Dragon_Ball_...  "
      ]
     },
     "metadata": {},
     "output_type": "display_data"
    }
   ],
   "source": [
    "# run conjunctive query and print the result as table\n",
    "docs = voc.conjunctive_query(porter)\n",
    "voc.print_tables(docs, path, \"\")"
   ]
  },
  {
   "cell_type": "markdown",
   "id": "7a64a17a",
   "metadata": {},
   "source": [
    "### 2.2 Cosine-similarity ranking"
   ]
  },
  {
   "cell_type": "code",
   "execution_count": 6,
   "id": "a6c4210c",
   "metadata": {},
   "outputs": [
    {
     "name": "stdout",
     "output_type": "stream",
     "text": [
      "Search keys - conjunctive query : saiyan race\n",
      "[(0.04113, 'document_1035'), (0.05138, 'document_364'), (0.06115, 'document_400'), (0.21109, 'document_1467')]\n"
     ]
    },
    {
     "data": {
      "text/html": [
       "<div>\n",
       "<style scoped>\n",
       "    .dataframe tbody tr th:only-of-type {\n",
       "        vertical-align: middle;\n",
       "    }\n",
       "\n",
       "    .dataframe tbody tr th {\n",
       "        vertical-align: top;\n",
       "    }\n",
       "\n",
       "    .dataframe thead th {\n",
       "        text-align: right;\n",
       "    }\n",
       "</style>\n",
       "<table border=\"1\" class=\"dataframe\">\n",
       "  <thead>\n",
       "    <tr style=\"text-align: right;\">\n",
       "      <th></th>\n",
       "      <th>animeTitle</th>\n",
       "      <th>animeDescription</th>\n",
       "      <th>Url</th>\n",
       "      <th>Similarity</th>\n",
       "    </tr>\n",
       "  </thead>\n",
       "  <tbody>\n",
       "    <tr>\n",
       "      <th>0</th>\n",
       "      <td>Dragon Ball Z Special 1: Tatta Hitori no Saish...</td>\n",
       "      <td>Bardock, Son Goku's father, is a low-ranking S...</td>\n",
       "      <td>https://myanimelist.net/anime/986/Dragon_Ball_...</td>\n",
       "      <td>0.21109</td>\n",
       "    </tr>\n",
       "    <tr>\n",
       "      <th>1</th>\n",
       "      <td>Dragon Ball Super: Broly</td>\n",
       "      <td>Forty-one years ago on Planet Vegeta, home of ...</td>\n",
       "      <td>https://myanimelist.net/anime/36946/Dragon_Bal...</td>\n",
       "      <td>0.06115</td>\n",
       "    </tr>\n",
       "    <tr>\n",
       "      <th>2</th>\n",
       "      <td>Dragon Ball Z</td>\n",
       "      <td>Five years after winning the World Martial Art...</td>\n",
       "      <td>https://myanimelist.net/anime/813/Dragon_Ball_Z\\n</td>\n",
       "      <td>0.05138</td>\n",
       "    </tr>\n",
       "    <tr>\n",
       "      <th>3</th>\n",
       "      <td>Dragon Ball Kai</td>\n",
       "      <td>Five years after the events of Dragon Ball, ma...</td>\n",
       "      <td>https://myanimelist.net/anime/6033/Dragon_Ball...</td>\n",
       "      <td>0.04113</td>\n",
       "    </tr>\n",
       "  </tbody>\n",
       "</table>\n",
       "</div>"
      ],
      "text/plain": [
       "                                          animeTitle  \\\n",
       "0  Dragon Ball Z Special 1: Tatta Hitori no Saish...   \n",
       "1                           Dragon Ball Super: Broly   \n",
       "2                                      Dragon Ball Z   \n",
       "3                                    Dragon Ball Kai   \n",
       "\n",
       "                                    animeDescription  \\\n",
       "0  Bardock, Son Goku's father, is a low-ranking S...   \n",
       "1  Forty-one years ago on Planet Vegeta, home of ...   \n",
       "2  Five years after winning the World Martial Art...   \n",
       "3  Five years after the events of Dragon Ball, ma...   \n",
       "\n",
       "                                                 Url  Similarity  \n",
       "0  https://myanimelist.net/anime/986/Dragon_Ball_...     0.21109  \n",
       "1  https://myanimelist.net/anime/36946/Dragon_Bal...     0.06115  \n",
       "2  https://myanimelist.net/anime/813/Dragon_Ball_Z\\n     0.05138  \n",
       "3  https://myanimelist.net/anime/6033/Dragon_Ball...     0.04113  "
      ]
     },
     "metadata": {},
     "output_type": "display_data"
    }
   ],
   "source": [
    "# run cosine similarity query and print the result as table\n",
    "top = voc.cosine_similarity_rank(porter, 5)\n",
    "voc.print_tables(top, path, \"tfIdf\")"
   ]
  },
  {
   "cell_type": "markdown",
   "id": "31e48a18",
   "metadata": {},
   "source": [
    "## 3. Custom ranking "
   ]
  },
  {
   "cell_type": "code",
   "execution_count": 7,
   "id": "743effc5",
   "metadata": {},
   "outputs": [
    {
     "name": "stdout",
     "output_type": "stream",
     "text": [
      "Search keys - conjunctive query : saiyan race\n",
      "[(0.04113, 'document_1035'), (0.05138, 'document_364'), (0.06115, 'document_400'), (0.21109, 'document_1467')]\n"
     ]
    },
    {
     "data": {
      "text/html": [
       "<div>\n",
       "<style scoped>\n",
       "    .dataframe tbody tr th:only-of-type {\n",
       "        vertical-align: middle;\n",
       "    }\n",
       "\n",
       "    .dataframe tbody tr th {\n",
       "        vertical-align: top;\n",
       "    }\n",
       "\n",
       "    .dataframe thead th {\n",
       "        text-align: right;\n",
       "    }\n",
       "</style>\n",
       "<table border=\"1\" class=\"dataframe\">\n",
       "  <thead>\n",
       "    <tr style=\"text-align: right;\">\n",
       "      <th></th>\n",
       "      <th>animeTitle</th>\n",
       "      <th>animeDescription</th>\n",
       "      <th>Url</th>\n",
       "      <th>Similarity</th>\n",
       "    </tr>\n",
       "  </thead>\n",
       "  <tbody>\n",
       "    <tr>\n",
       "      <th>0</th>\n",
       "      <td>Dragon Ball Z</td>\n",
       "      <td>Five years after winning the World Martial Art...</td>\n",
       "      <td>https://myanimelist.net/anime/813/Dragon_Ball_Z\\n</td>\n",
       "      <td>0.35630</td>\n",
       "    </tr>\n",
       "    <tr>\n",
       "      <th>1</th>\n",
       "      <td>Dragon Ball Z Special 1: Tatta Hitori no Saish...</td>\n",
       "      <td>Bardock, Son Goku's father, is a low-ranking S...</td>\n",
       "      <td>https://myanimelist.net/anime/986/Dragon_Ball_...</td>\n",
       "      <td>0.33915</td>\n",
       "    </tr>\n",
       "    <tr>\n",
       "      <th>2</th>\n",
       "      <td>Dragon Ball Super: Broly</td>\n",
       "      <td>Forty-one years ago on Planet Vegeta, home of ...</td>\n",
       "      <td>https://myanimelist.net/anime/36946/Dragon_Bal...</td>\n",
       "      <td>0.29439</td>\n",
       "    </tr>\n",
       "    <tr>\n",
       "      <th>3</th>\n",
       "      <td>Dragon Ball Kai</td>\n",
       "      <td>Five years after the events of Dragon Ball, ma...</td>\n",
       "      <td>https://myanimelist.net/anime/6033/Dragon_Ball...</td>\n",
       "      <td>0.28848</td>\n",
       "    </tr>\n",
       "  </tbody>\n",
       "</table>\n",
       "</div>"
      ],
      "text/plain": [
       "                                          animeTitle  \\\n",
       "0                                      Dragon Ball Z   \n",
       "1  Dragon Ball Z Special 1: Tatta Hitori no Saish...   \n",
       "2                           Dragon Ball Super: Broly   \n",
       "3                                    Dragon Ball Kai   \n",
       "\n",
       "                                    animeDescription  \\\n",
       "0  Five years after winning the World Martial Art...   \n",
       "1  Bardock, Son Goku's father, is a low-ranking S...   \n",
       "2  Forty-one years ago on Planet Vegeta, home of ...   \n",
       "3  Five years after the events of Dragon Ball, ma...   \n",
       "\n",
       "                                                 Url  Similarity  \n",
       "0  https://myanimelist.net/anime/813/Dragon_Ball_Z\\n     0.35630  \n",
       "1  https://myanimelist.net/anime/986/Dragon_Ball_...     0.33915  \n",
       "2  https://myanimelist.net/anime/36946/Dragon_Bal...     0.29439  \n",
       "3  https://myanimelist.net/anime/6033/Dragon_Ball...     0.28848  "
      ]
     },
     "metadata": {},
     "output_type": "display_data"
    }
   ],
   "source": [
    "# run custom query and print the result as table\n",
    "top = voc.custom_rank(porter, 5)\n",
    "voc.print_tables(top, path, \"tfIdf\")"
   ]
  },
  {
   "cell_type": "markdown",
   "id": "aebfbe14-696e-40df-86a6-bc750bbbb583",
   "metadata": {},
   "source": [
    "## 5. Algorithmic question\n",
    "You consult for a personal trainer who has a *back-to-back sequence* of requests for appointment. A sequence of requests is of the form > 30, 40, 25, 50, 30, 20 where each number is the time that the person who makes the appointment wants to spend. You need to accept some requests, however you need a break between them, so you cannot accept two consecutive requests. For example, `[30, 50, 20]` is an acceptable solution (of duration *100*), but `[30, 40, 50, 20]` is not because *30* and *40* are two consecutive appointments. Your goal is to provide to the personal trainer a schedule that maximizes the total lenght of the accepted appointments. For example, in the previous instance, the optimal solution is `[40, 50, 20]`, of total duration *110*.\n",
    "1. Write an algorithm that computes the acceptable solution with the longest possible duration.\n",
    "2. Implement a program that given in input an instance in the form given above, gives the optimal solution."
   ]
  },
  {
   "cell_type": "markdown",
   "id": "1969a913-0e16-4fb6-8a01-8a5f208a1161",
   "metadata": {},
   "source": [
    "#### 1. Write an algorithm that computes the acceptable solution with the longest possible duration. "
   ]
  },
  {
   "cell_type": "markdown",
   "id": "096175ff-85c8-41cd-b98a-71a1ddd30c5c",
   "metadata": {},
   "source": [
    "\n",
    "        Input:\n",
    "            A: array of length n\n",
    "\n",
    "        function alg(A):\n",
    "            S <- array of length n to memorize all the sums\n",
    "            dict = {}\n",
    "            for i in n:\n",
    "                S[i] = max(S[i-1], S[i-2] + A[i])\n",
    "                if max(S[i-1], S[i-2] + A[i]) == (S[i-2] + A[i]):\n",
    "                    dict[S[i-2], A[i]] = S[i]\n",
    "            list <- list containing the number of the optimal solution\n",
    "            individual <- 2nd index of the keys\n",
    "            cumulative <- 1st index of the keys\n",
    "            \n",
    "            Extract all the individual values and \n",
    "            list.append(individual)\n",
    "\n",
    "            return A, list"
   ]
  },
  {
   "cell_type": "markdown",
   "id": "646f8a81-209c-4c1e-852a-6f6b8134e898",
   "metadata": {},
   "source": [
    "#### 2. Implement a program that given in input an instance in the form given above, gives the optimal solution."
   ]
  },
  {
   "cell_type": "code",
   "execution_count": null,
   "id": "b09a3251-5cc9-4eb4-9333-710b8fb634c9",
   "metadata": {},
   "outputs": [],
   "source": [
    "def my_schedule(array):\n",
    "    # Create an array we can use to memorize sums\n",
    "    S = [0 for j in range(len(array))]\n",
    "    \n",
    "    # Create a dictionary to store all the accepted appointments\n",
    "    accepted = dict()\n",
    "    \n",
    "    for i in range(len(array)):\n",
    "        # Memorize the maximum non consecutive sum between elements in the array\n",
    "        # It chooses between the last maximum sum and the one updated \n",
    "        # with the i-th element.\n",
    "        S[i] = max(S[i-1], S[i-2] + array[i])\n",
    "        \n",
    "        # Add the accepted appointment\n",
    "        if max(S[i-1], S[i-2] + array[i]) == (S[i-2] + array[i]):\n",
    "            accepted[S[i-2], array[i]] = S[i]\n",
    "            \n",
    "    # Retrieving the numbers that produce the optimal solution\n",
    "    \n",
    "    # List that contains the number that produce the optimal solution\n",
    "    list_of_success = []\n",
    "    \n",
    "    # Defining the max value of the dictionary to start the while loop\n",
    "    max_value = max(accepted.values())\n",
    "    \n",
    "    # Defining a stop clause which is the cumulative sum or the 1st index of the keys\n",
    "    stop_clause = list(accepted.keys())[list(accepted.values()).index(max_value)][0]\n",
    "    \n",
    "    # Stop until the cumulative value is equal to zero, which means we finished the list\n",
    "    while stop_clause != 0:\n",
    "        \n",
    "        # Suppose we have an entry of a dictionary that is (130, 110): 240\n",
    "        # Define the first index of the key, i.e. 130, as the cumulative number\n",
    "        # Define the second index of the key, i.e. 110, as the individual number\n",
    "        \n",
    "        individual_value = list(accepted.keys())[list(accepted.values()).index(max_value)][1]\n",
    "        cumulative_value = list(accepted.keys())[list(accepted.values()).index(max_value)][0]\n",
    "        \n",
    "        # We append the individual value to the list, since this number is part of the optimal solution\n",
    "        list_of_success.append(individual_value)\n",
    "        \n",
    "        # Redefine the max value as\n",
    "        max_value = cumulative_value\n",
    "        stop_clause = cumulative_value\n",
    "        \n",
    "    # Reversing the list that contains the numbers of the optimal solution,\n",
    "    # so they appear in the original order.\n",
    "    list_of_success.reverse()\n",
    "    \n",
    "    return S[-1], list_of_success"
   ]
  },
  {
   "cell_type": "code",
   "execution_count": null,
   "id": "43628f75-214f-44eb-909c-cd997057bf6e",
   "metadata": {},
   "outputs": [],
   "source": [
    "appointments = [30, 40, 25, 50, 30, 20]\n",
    "tot, opt_sol = my_schedule(appointments)\n",
    "print('The optimal solution of accepted appointments is:', opt_sol)\n",
    "print('The total duration of appointments is:', tot)"
   ]
  },
  {
   "cell_type": "code",
   "execution_count": null,
   "id": "848d2694-6597-46f7-88fd-eba496fbfce9",
   "metadata": {},
   "outputs": [],
   "source": [
    "# Try with different lists of appointments\n",
    "app1 = [30, 40, 55, 90, 90, 110]\n",
    "tot, opt_sol = my_schedule(app1)\n",
    "print('The optimal solution of accepted appointments is:', opt_sol)\n",
    "print('The total duration of appointments is:', tot)"
   ]
  },
  {
   "cell_type": "code",
   "execution_count": null,
   "id": "fca70f1c-c08e-4b28-b70f-77396a756674",
   "metadata": {},
   "outputs": [],
   "source": [
    "app2 = [30, 40, 55, 90, 90, 40]\n",
    "tot, opt_sol = my_schedule(app2)\n",
    "print('The optimal solution of accepted appointments is:', opt_sol)\n",
    "print('The total duration of appointments is:', tot)"
   ]
  }
 ],
 "metadata": {
  "kernelspec": {
   "display_name": "Python 3",
   "language": "python",
   "name": "python3"
  },
  "language_info": {
   "codemirror_mode": {
    "name": "ipython",
    "version": 3
   },
   "file_extension": ".py",
   "mimetype": "text/x-python",
   "name": "python",
   "nbconvert_exporter": "python",
   "pygments_lexer": "ipython3",
   "version": "3.8.8"
  }
 },
 "nbformat": 4,
 "nbformat_minor": 5
}
