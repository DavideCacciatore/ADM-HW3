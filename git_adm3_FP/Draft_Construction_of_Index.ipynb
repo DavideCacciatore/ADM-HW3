{
 "cells": [
  {
   "cell_type": "markdown",
   "id": "0563728b",
   "metadata": {},
   "source": [
    "### Draft of Function to Construct the Index"
   ]
  },
  {
   "cell_type": "code",
   "execution_count": 7,
   "id": "c65b01d1",
   "metadata": {},
   "outputs": [],
   "source": [
    "import nltk\n",
    "from collections import defaultdict\n",
    "from nltk.corpus import stopwords\n",
    "from nltk.stem import snowball\n",
    "from collections import defaultdict\n",
    "from nltk.tokenize import sent_tokenize, word_tokenize"
   ]
  },
  {
   "cell_type": "code",
   "execution_count": 20,
   "id": "f0c26677",
   "metadata": {},
   "outputs": [],
   "source": [
    "my_sample_synopsis = ['No synopsis information has been added to this title. Help improve our database by adding a synopsis here.',]"
   ]
  },
  {
   "cell_type": "code",
   "execution_count": 22,
   "id": "4d019aa2",
   "metadata": {},
   "outputs": [],
   "source": [
    "inverted_index = defaultdict(set)"
   ]
  },
  {
   "cell_type": "code",
   "execution_count": 6,
   "id": "1ac1cda4",
   "metadata": {},
   "outputs": [
    {
     "name": "stdout",
     "output_type": "stream",
     "text": [
      "0 No synopsis information has been added to this title. Help improve our database by adding a synopsis here.\n"
     ]
    }
   ],
   "source": [
    "#Understading how enumerate works...\n",
    "#for identif_doc, text_synopsis in enumerate(my_sample_synopsis):\n",
    "#    print(identif_doc,text_synopsis)"
   ]
  },
  {
   "cell_type": "code",
   "execution_count": 23,
   "id": "bd943a56",
   "metadata": {},
   "outputs": [],
   "source": [
    "for identific_doc, text_synopsis in enumerate(my_sample_synopsis): #Creates document identification and synopsis\n",
    "    for sent in sent_tokenize(text_synopsis):\n",
    "        for word in word_tokenize(sent):\n",
    "            inverted_index[word].add(identif_doc)\n"
   ]
  },
  {
   "cell_type": "code",
   "execution_count": 24,
   "id": "0b8ae872",
   "metadata": {},
   "outputs": [
    {
     "data": {
      "text/plain": [
       "defaultdict(set,\n",
       "            {'No': {0},\n",
       "             'synopsis': {0},\n",
       "             'information': {0},\n",
       "             'has': {0},\n",
       "             'been': {0},\n",
       "             'added': {0},\n",
       "             'to': {0},\n",
       "             'this': {0},\n",
       "             'title': {0},\n",
       "             '.': {0},\n",
       "             'Help': {0},\n",
       "             'improve': {0},\n",
       "             'our': {0},\n",
       "             'database': {0},\n",
       "             'by': {0},\n",
       "             'adding': {0},\n",
       "             'a': {0},\n",
       "             'here': {0}})"
      ]
     },
     "execution_count": 24,
     "metadata": {},
     "output_type": "execute_result"
    }
   ],
   "source": [
    "inverted_index"
   ]
  }
 ],
 "metadata": {
  "kernelspec": {
   "display_name": "Python 3",
   "language": "python",
   "name": "python3"
  },
  "language_info": {
   "codemirror_mode": {
    "name": "ipython",
    "version": 3
   },
   "file_extension": ".py",
   "mimetype": "text/x-python",
   "name": "python",
   "nbconvert_exporter": "python",
   "pygments_lexer": "ipython3",
   "version": "3.8.8"
  }
 },
 "nbformat": 4,
 "nbformat_minor": 5
}
