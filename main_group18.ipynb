{
 "cells": [
  {
   "cell_type": "markdown",
   "id": "7aa29026",
   "metadata": {
    "id": "7aa29026"
   },
   "source": [
    "\n",
    "# **Homework 3 - What is the best anime in the world?**"
   ]
  },
  {
   "cell_type": "markdown",
   "id": "73PMW5omTsep",
   "metadata": {
    "id": "73PMW5omTsep"
   },
   "source": [
    "**#Group 18**\n",
    "\n",
    "*Francesca Possenti | Davide Cacciatore | Braulio Villalobos-Quiros*"
   ]
  },
  {
   "cell_type": "code",
   "execution_count": 2,
   "id": "e79049b6",
   "metadata": {
    "id": "e79049b6",
    "outputId": "6282727c-51d4-44aa-e263-aecc5a33e444"
   },
   "outputs": [],
   "source": [
    "# Import some functions\n",
    "import os\n",
    "import time\n",
    "import multiprocessing as mp\n",
    "import ctypes\n",
    "import nltk\n",
    "from nltk.stem import PorterStemmer\n",
    "\n",
    "# Import modules from external .py files\n",
    "import list_urls as l_u\n",
    "import content_html as c_html\n",
    "import anime_information as a_info\n",
    "import vocabularize as voc\n",
    "import queries as q"
   ]
  },
  {
   "cell_type": "markdown",
   "id": "defe2611",
   "metadata": {
    "id": "defe2611"
   },
   "source": [
    "## *1* **Data Collection**"
   ]
  },
  {
   "cell_type": "markdown",
   "id": "ee1e40e1",
   "metadata": {
    "id": "ee1e40e1"
   },
   "source": [
    "### *1.1* **Get the list of animes**\n",
    "We start from the list of animes to include in our corpus of documents. In particular, we focus on the top animes listed in the first 400 pages. From this list we want to collect the url associated to each anime in the list. The list is long and splitted in many pages. We ask you to retrieve only the urls of the animes listed in the first 400 pages (each page has 50 animes so you will end up with 20000 unique anime urls).\n",
    "The output of this step is a .txt file whose single line corresponds to an anime's url."
   ]
  },
  {
   "cell_type": "markdown",
   "id": "12493db2",
   "metadata": {
    "id": "12493db2"
   },
   "source": [
    "We extract from the main pages - the first 400 according to pagination - the urls of animes' web pages that will be retrieved in the next points."
   ]
  },
  {
   "cell_type": "code",
   "execution_count": 3,
   "id": "a4b0c327",
   "metadata": {
    "id": "a4b0c327"
   },
   "outputs": [],
   "source": [
    "path = os.getcwd()\n",
    "# Get the txt file with all the urls\n",
    "#l_u.parallelize_extraction()"
   ]
  },
  {
   "cell_type": "markdown",
   "id": "c91e8186",
   "metadata": {
    "id": "c91e8186"
   },
   "source": [
    "### *1.2* **Crawl animes**\n",
    "Once you get all the urls in the first 400 pages of the list, you:\n",
    "\n",
    "* Download the html corresponding to each of the collected urls.\n",
    "* After you collect a single page, immediately save its `html` in a file. In this way, if your program stops, for any reason, you will not lose the data collected up to the stopping point.\n",
    "* Organize the entire set of downloaded `html` pages into folders. Each folder will contain the `htmls` of the animes in page 1, page 2, ... of the list of animes."
   ]
  },
  {
   "cell_type": "markdown",
   "id": "a23346d4",
   "metadata": {
    "id": "a23346d4"
   },
   "source": [
    "**Get the html files from animes' urls previuosly collected**\n",
    "\n",
    "We download - via urls from the previuos point - and memorize all the html files in a directory organized as follows:\n",
    "* a new **dir** `page_i` is created for each page, where is collected each `html` of the relative web page."
   ]
  },
  {
   "cell_type": "code",
   "execution_count": null,
   "id": "2940f8ee",
   "metadata": {
    "id": "2940f8ee"
   },
   "outputs": [],
   "source": [
    "# Get the html files\n",
    "c_html.get_content()"
   ]
  },
  {
   "cell_type": "markdown",
   "id": "70d6d3c6",
   "metadata": {
    "id": "70d6d3c6"
   },
   "source": [
    "### *1.3* **Parse downloaded pages**\n",
    "At this point, you should have all the html documents about the animes of interest and you can start to extract the animes informations. "
   ]
  },
  {
   "cell_type": "markdown",
   "id": "a832b443",
   "metadata": {
    "id": "a832b443"
   },
   "source": [
    "**Get the needed information about animes**\n",
    "\n",
    "Here we read each `html` files previously collected to get the requested information from the web pages and we create `tsv` files to memorize them. Each directory - so each page - contains a directory where all the `tsv` of the corresponding `html` files is memorized."
   ]
  },
  {
   "cell_type": "code",
   "execution_count": null,
   "id": "d070f303",
   "metadata": {
    "id": "d070f303"
   },
   "outputs": [],
   "source": [
    "# Get the info about the animes\n",
    "a_info.parallelize_parsing(path)"
   ]
  },
  {
   "cell_type": "markdown",
   "id": "d633fdca",
   "metadata": {
    "id": "d633fdca"
   },
   "source": [
    "## *2* **Search Engine**"
   ]
  },
  {
   "cell_type": "markdown",
   "id": "ef660f78",
   "metadata": {
    "id": "ef660f78"
   },
   "source": [
    "### *2.1* **Conjunctive query**"
   ]
  },
  {
   "cell_type": "markdown",
   "id": "2e070c05",
   "metadata": {
    "id": "2e070c05"
   },
   "source": [
    "#### *2.1.1* **Create your index!**"
   ]
  },
  {
   "cell_type": "markdown",
   "id": "216cc7e3",
   "metadata": {
    "id": "216cc7e3"
   },
   "source": [
    "After collecting the necessary data, we started focusing on the search engine.\n",
    "We initialized some needed objects and files in **JSON** format."
   ]
  },
  {
   "cell_type": "code",
   "execution_count": 4,
   "id": "842f00c3",
   "metadata": {
    "id": "842f00c3",
    "outputId": "108955ba-3005-4bd3-9197-b285272d6483"
   },
   "outputs": [
    {
     "name": "stderr",
     "output_type": "stream",
     "text": [
      "[nltk_data] Downloading package punkt to\n",
      "[nltk_data]     C:\\Users\\USER\\AppData\\Roaming\\nltk_data...\n",
      "[nltk_data]   Package punkt is already up-to-date!\n"
     ]
    }
   ],
   "source": [
    "# Initialize object that will be needed: shared 'managed' dictionaries\n",
    "manager = mp.Manager()\n",
    "vocabulary = manager.dict()\n",
    "inverted_index = manager.dict()\n",
    "complex_index = manager.dict()\n",
    "docs_short = manager.dict()\n",
    "\n",
    "# Shared 'managed' counter and lock, useful to control tasks and incrementing the counter properly\n",
    "v = manager.Value(ctypes.c_ulonglong, 0)\n",
    "lock = manager.Lock()\n",
    "\n",
    "# Stemming utilities\n",
    "nltk.download('punkt')\n",
    "porter = PorterStemmer()"
   ]
  },
  {
   "cell_type": "markdown",
   "id": "d8facc08",
   "metadata": {
    "id": "d8facc08"
   },
   "source": [
    "At this point, we computed some `JSON` files that we will use in the next points:\n",
    "\n",
    "* `vocabulary.txt`: a *txt* file whose lines contain a pair, a pre-processed word and its unique code identifier;\n",
    "    \n",
    "* `inverted_index.json`: a *JSON* file whose line contain a pair, a word ID and a list of documents in which the word is present. The documents are represented as a string composed by the string document and their identification number;\n",
    "    \n",
    "* `tf_complex_index.json`: similar to *inverted_index*, but the list of documents contains tuples (document, *tf index*). At this point we only have the *tf* - we will get the *Idf* after."
   ]
  },
  {
   "cell_type": "code",
   "execution_count": null,
   "id": "ff9a7243",
   "metadata": {
    "id": "ff9a7243"
   },
   "outputs": [],
   "source": [
    "# Get JSON files for further calculations\n",
    "voc.parallelize_process_anime(path, vocabulary, inverted_index, complex_index, porter, v, lock)\n",
    "voc.write_index(vocabulary, \"vocabulary\")\n",
    "voc.write_index(inverted_index, \"inverted_index\")\n",
    "voc.write_index(complex_index, \"tf_complex_index\")"
   ]
  },
  {
   "cell_type": "markdown",
   "id": "60cff166",
   "metadata": {
    "id": "60cff166"
   },
   "source": [
    "Now we compute two other documents which are needed to get the **cosine-similarity**: \n",
    "\n",
    "* `tfIdf_complex index.json`: as the *tf_complex_index*, but with the *tfIdf index* instead of the *tf* one. Having two step was necessary since, in order to compute the *Idf index*, we needed some overall information, which was previously missing. After we got the information (stored in the *inverted_index.json*), the rest could be done;\n",
    "    \n",
    "* `docs_short.json`: a complementary `json` file needed to compute the custom measure."
   ]
  },
  {
   "cell_type": "code",
   "execution_count": null,
   "id": "4d6b57e5",
   "metadata": {
    "id": "4d6b57e5"
   },
   "outputs": [],
   "source": [
    "# At this point we have an incomplete complex_index since the number associated to each doc is only the tf part\n",
    "# Get complete tfIdf complex_index\n",
    "voc.get_complex_index(complex_index)\n",
    "voc.write_index(complex_index, \"tfIdf_complex_index\")\n",
    "# Get index with documents as key to retrieve information on members/popularity of each anime\n",
    "voc.parallelize_docs_short(path, docs_short, porter)\n",
    "voc.write_index(docs_short, \"docs_short\")"
   ]
  },
  {
   "cell_type": "markdown",
   "id": "69d68fb0",
   "metadata": {
    "id": "69d68fb0"
   },
   "source": [
    "#### *2.1.2* **Execute the query**"
   ]
  },
  {
   "cell_type": "code",
   "execution_count": 4,
   "id": "ba2163b9",
   "metadata": {
    "id": "ba2163b9",
    "outputId": "e4a4f6ea-24df-4e1e-f59a-801bcafe6e32"
   },
   "outputs": [
    {
     "name": "stdout",
     "output_type": "stream",
     "text": [
      "Search keys - conjunctive query : saiyan race\n"
     ]
    },
    {
     "data": {
      "text/html": [
       "<div>\n",
       "<style scoped>\n",
       "    .dataframe tbody tr th:only-of-type {\n",
       "        vertical-align: middle;\n",
       "    }\n",
       "\n",
       "    .dataframe tbody tr th {\n",
       "        vertical-align: top;\n",
       "    }\n",
       "\n",
       "    .dataframe thead th {\n",
       "        text-align: right;\n",
       "    }\n",
       "</style>\n",
       "<table border=\"1\" class=\"dataframe\">\n",
       "  <thead>\n",
       "    <tr style=\"text-align: right;\">\n",
       "      <th></th>\n",
       "      <th>animeTitle</th>\n",
       "      <th>animeDescription</th>\n",
       "      <th>Url</th>\n",
       "    </tr>\n",
       "  </thead>\n",
       "  <tbody>\n",
       "    <tr>\n",
       "      <th>0</th>\n",
       "      <td>Dragon Ball Z</td>\n",
       "      <td>Five years after winning the World Martial Art...</td>\n",
       "      <td>https://myanimelist.net/anime/813/Dragon_Ball_Z\\n</td>\n",
       "    </tr>\n",
       "    <tr>\n",
       "      <th>1</th>\n",
       "      <td>Dragon Ball Z Special 1: Tatta Hitori no Saish...</td>\n",
       "      <td>Bardock, Son Goku's father, is a low-ranking S...</td>\n",
       "      <td>https://myanimelist.net/anime/986/Dragon_Ball_...</td>\n",
       "    </tr>\n",
       "    <tr>\n",
       "      <th>2</th>\n",
       "      <td>Dragon Ball Super: Broly</td>\n",
       "      <td>Forty-one years ago on Planet Vegeta, home of ...</td>\n",
       "      <td>https://myanimelist.net/anime/36946/Dragon_Bal...</td>\n",
       "    </tr>\n",
       "    <tr>\n",
       "      <th>3</th>\n",
       "      <td>Dragon Ball Kai</td>\n",
       "      <td>Five years after the events of Dragon Ball, ma...</td>\n",
       "      <td>https://myanimelist.net/anime/6033/Dragon_Ball...</td>\n",
       "    </tr>\n",
       "  </tbody>\n",
       "</table>\n",
       "</div>"
      ],
      "text/plain": [
       "                                          animeTitle  \\\n",
       "0                                      Dragon Ball Z   \n",
       "1  Dragon Ball Z Special 1: Tatta Hitori no Saish...   \n",
       "2                           Dragon Ball Super: Broly   \n",
       "3                                    Dragon Ball Kai   \n",
       "\n",
       "                                    animeDescription  \\\n",
       "0  Five years after winning the World Martial Art...   \n",
       "1  Bardock, Son Goku's father, is a low-ranking S...   \n",
       "2  Forty-one years ago on Planet Vegeta, home of ...   \n",
       "3  Five years after the events of Dragon Ball, ma...   \n",
       "\n",
       "                                                 Url  \n",
       "0  https://myanimelist.net/anime/813/Dragon_Ball_Z\\n  \n",
       "1  https://myanimelist.net/anime/986/Dragon_Ball_...  \n",
       "2  https://myanimelist.net/anime/36946/Dragon_Bal...  \n",
       "3  https://myanimelist.net/anime/6033/Dragon_Ball...  "
      ]
     },
     "metadata": {},
     "output_type": "display_data"
    }
   ],
   "source": [
    "# Run conjunctive query and print the result in a table format\n",
    "docs = q.conjunctive_query(porter)\n",
    "q.print_tables(docs, path, \"\")"
   ]
  },
  {
   "cell_type": "code",
   "execution_count": 5,
   "id": "dda9e796",
   "metadata": {},
   "outputs": [
    {
     "name": "stdout",
     "output_type": "stream",
     "text": [
      "Search keys - conjunctive query : criminals and detectives\n"
     ]
    },
    {
     "data": {
      "text/html": [
       "<div>\n",
       "<style scoped>\n",
       "    .dataframe tbody tr th:only-of-type {\n",
       "        vertical-align: middle;\n",
       "    }\n",
       "\n",
       "    .dataframe tbody tr th {\n",
       "        vertical-align: top;\n",
       "    }\n",
       "\n",
       "    .dataframe thead th {\n",
       "        text-align: right;\n",
       "    }\n",
       "</style>\n",
       "<table border=\"1\" class=\"dataframe\">\n",
       "  <thead>\n",
       "    <tr style=\"text-align: right;\">\n",
       "      <th></th>\n",
       "      <th>animeTitle</th>\n",
       "      <th>animeDescription</th>\n",
       "      <th>Url</th>\n",
       "    </tr>\n",
       "  </thead>\n",
       "  <tbody>\n",
       "    <tr>\n",
       "      <th>0</th>\n",
       "      <td>F-Zero: Falcon Densetsu</td>\n",
       "      <td>Rick Wheeler was a police detective who got in...</td>\n",
       "      <td>https://myanimelist.net/anime/3101/F-Zero__Fal...</td>\n",
       "    </tr>\n",
       "    <tr>\n",
       "      <th>1</th>\n",
       "      <td>Fuuto Tantei</td>\n",
       "      <td>\"In the city of Fuuto, criminals make use of U...</td>\n",
       "      <td>https://myanimelist.net/anime/48649/Fuuto_Tant...</td>\n",
       "    </tr>\n",
       "    <tr>\n",
       "      <th>2</th>\n",
       "      <td>Meitantei Conan: Hannin no Hanzawa-san</td>\n",
       "      <td>\"Anime adaptation of the spin-off manga Meitan...</td>\n",
       "      <td>https://myanimelist.net/anime/50010/Meitantei_...</td>\n",
       "    </tr>\n",
       "    <tr>\n",
       "      <th>3</th>\n",
       "      <td>Naikaku Kenryoku Hanzai Kyousei Torishimarikan...</td>\n",
       "      <td>Based on Ken Kitashiba &amp; Yasuhiro Watanabe's p...</td>\n",
       "      <td>https://myanimelist.net/anime/1740/Naikaku_Ken...</td>\n",
       "    </tr>\n",
       "    <tr>\n",
       "      <th>4</th>\n",
       "      <td>Yuukoku no Moriarty 2nd Season</td>\n",
       "      <td>\"Great Britain is ablaze with news of a so-cal...</td>\n",
       "      <td>https://myanimelist.net/anime/43325/Yuukoku_no...</td>\n",
       "    </tr>\n",
       "    <tr>\n",
       "      <th>5</th>\n",
       "      <td>Cuticle Tantei Inaba</td>\n",
       "      <td>In a world where half-human, half-animal chime...</td>\n",
       "      <td>https://myanimelist.net/anime/15109/Cuticle_Ta...</td>\n",
       "    </tr>\n",
       "    <tr>\n",
       "      <th>6</th>\n",
       "      <td>Kamisama no Memochou</td>\n",
       "      <td>\"Narumi Fujishima may seem like a normal high ...</td>\n",
       "      <td>https://myanimelist.net/anime/10568/Kamisama_n...</td>\n",
       "    </tr>\n",
       "    <tr>\n",
       "      <th>7</th>\n",
       "      <td>Hurricane Polymar</td>\n",
       "      <td>Yoroi Takeshi is a carefree and somewhat naïve...</td>\n",
       "      <td>https://myanimelist.net/anime/4808/Hurricane_P...</td>\n",
       "    </tr>\n",
       "    <tr>\n",
       "      <th>8</th>\n",
       "      <td>Eightman After</td>\n",
       "      <td>Private detective Hazama Itsuru is hired by Pr...</td>\n",
       "      <td>https://myanimelist.net/anime/1344/Eightman_Af...</td>\n",
       "    </tr>\n",
       "    <tr>\n",
       "      <th>9</th>\n",
       "      <td>Death Note</td>\n",
       "      <td>A shinigami, as a god of death, can kill any p...</td>\n",
       "      <td>https://myanimelist.net/anime/1535/Death_Note\\n</td>\n",
       "    </tr>\n",
       "    <tr>\n",
       "      <th>10</th>\n",
       "      <td>Id:Invaded</td>\n",
       "      <td>\"The Mizuhanome System is a highly advanced de...</td>\n",
       "      <td>https://myanimelist.net/anime/40046/Id_Invaded\\n</td>\n",
       "    </tr>\n",
       "    <tr>\n",
       "      <th>11</th>\n",
       "      <td>Yuu☆Yuu☆Hakusho</td>\n",
       "      <td>One fateful day, Yuusuke Urameshi, a 14-year-o...</td>\n",
       "      <td>https://myanimelist.net/anime/392/Yuu☆Yuu☆Haku...</td>\n",
       "    </tr>\n",
       "    <tr>\n",
       "      <th>12</th>\n",
       "      <td>Detective Conan</td>\n",
       "      <td>Shinichi Kudou, a high school student of astou...</td>\n",
       "      <td>https://myanimelist.net/anime/235/Detective_Co...</td>\n",
       "    </tr>\n",
       "  </tbody>\n",
       "</table>\n",
       "</div>"
      ],
      "text/plain": [
       "                                           animeTitle  \\\n",
       "0                             F-Zero: Falcon Densetsu   \n",
       "1                                        Fuuto Tantei   \n",
       "2              Meitantei Conan: Hannin no Hanzawa-san   \n",
       "3   Naikaku Kenryoku Hanzai Kyousei Torishimarikan...   \n",
       "4                      Yuukoku no Moriarty 2nd Season   \n",
       "5                                Cuticle Tantei Inaba   \n",
       "6                                Kamisama no Memochou   \n",
       "7                                   Hurricane Polymar   \n",
       "8                                      Eightman After   \n",
       "9                                          Death Note   \n",
       "10                                         Id:Invaded   \n",
       "11                                    Yuu☆Yuu☆Hakusho   \n",
       "12                                    Detective Conan   \n",
       "\n",
       "                                     animeDescription  \\\n",
       "0   Rick Wheeler was a police detective who got in...   \n",
       "1   \"In the city of Fuuto, criminals make use of U...   \n",
       "2   \"Anime adaptation of the spin-off manga Meitan...   \n",
       "3   Based on Ken Kitashiba & Yasuhiro Watanabe's p...   \n",
       "4   \"Great Britain is ablaze with news of a so-cal...   \n",
       "5   In a world where half-human, half-animal chime...   \n",
       "6   \"Narumi Fujishima may seem like a normal high ...   \n",
       "7   Yoroi Takeshi is a carefree and somewhat naïve...   \n",
       "8   Private detective Hazama Itsuru is hired by Pr...   \n",
       "9   A shinigami, as a god of death, can kill any p...   \n",
       "10  \"The Mizuhanome System is a highly advanced de...   \n",
       "11  One fateful day, Yuusuke Urameshi, a 14-year-o...   \n",
       "12  Shinichi Kudou, a high school student of astou...   \n",
       "\n",
       "                                                  Url  \n",
       "0   https://myanimelist.net/anime/3101/F-Zero__Fal...  \n",
       "1   https://myanimelist.net/anime/48649/Fuuto_Tant...  \n",
       "2   https://myanimelist.net/anime/50010/Meitantei_...  \n",
       "3   https://myanimelist.net/anime/1740/Naikaku_Ken...  \n",
       "4   https://myanimelist.net/anime/43325/Yuukoku_no...  \n",
       "5   https://myanimelist.net/anime/15109/Cuticle_Ta...  \n",
       "6   https://myanimelist.net/anime/10568/Kamisama_n...  \n",
       "7   https://myanimelist.net/anime/4808/Hurricane_P...  \n",
       "8   https://myanimelist.net/anime/1344/Eightman_Af...  \n",
       "9     https://myanimelist.net/anime/1535/Death_Note\\n  \n",
       "10   https://myanimelist.net/anime/40046/Id_Invaded\\n  \n",
       "11  https://myanimelist.net/anime/392/Yuu☆Yuu☆Haku...  \n",
       "12  https://myanimelist.net/anime/235/Detective_Co...  "
      ]
     },
     "metadata": {},
     "output_type": "display_data"
    }
   ],
   "source": [
    "# Run conjunctive query and print the result in a table format - example 2\n",
    "docs = q.conjunctive_query(porter)\n",
    "q.print_tables(docs, path, \"\")"
   ]
  },
  {
   "cell_type": "code",
   "execution_count": 6,
   "id": "2450691b",
   "metadata": {},
   "outputs": [
    {
     "name": "stdout",
     "output_type": "stream",
     "text": [
      "Search keys - conjunctive query : parents\n"
     ]
    },
    {
     "data": {
      "text/html": [
       "<div>\n",
       "<style scoped>\n",
       "    .dataframe tbody tr th:only-of-type {\n",
       "        vertical-align: middle;\n",
       "    }\n",
       "\n",
       "    .dataframe tbody tr th {\n",
       "        vertical-align: top;\n",
       "    }\n",
       "\n",
       "    .dataframe thead th {\n",
       "        text-align: right;\n",
       "    }\n",
       "</style>\n",
       "<table border=\"1\" class=\"dataframe\">\n",
       "  <thead>\n",
       "    <tr style=\"text-align: right;\">\n",
       "      <th></th>\n",
       "      <th>animeTitle</th>\n",
       "      <th>animeDescription</th>\n",
       "      <th>Url</th>\n",
       "    </tr>\n",
       "  </thead>\n",
       "  <tbody>\n",
       "    <tr>\n",
       "      <th>0</th>\n",
       "      <td>Super Cub</td>\n",
       "      <td>Koguma, a reserved second-year high school stu...</td>\n",
       "      <td>https://myanimelist.net/anime/40685/Super_Cub\\n</td>\n",
       "    </tr>\n",
       "    <tr>\n",
       "      <th>1</th>\n",
       "      <td>Mahoutsukai Sally 2</td>\n",
       "      <td>During Sally's coronation ceremony in the magi...</td>\n",
       "      <td>https://myanimelist.net/anime/3875/Mahoutsukai...</td>\n",
       "    </tr>\n",
       "    <tr>\n",
       "      <th>2</th>\n",
       "      <td>Nezha Zhi Mo Tong Jiang Shi</td>\n",
       "      <td>From the heavenly object known as the Chaos Pe...</td>\n",
       "      <td>https://myanimelist.net/anime/40111/Nezha_Zhi_...</td>\n",
       "    </tr>\n",
       "    <tr>\n",
       "      <th>3</th>\n",
       "      <td>Hitozuma Ryoujoku Sankanbi</td>\n",
       "      <td>Three wives are required to attend a parent/te...</td>\n",
       "      <td>https://myanimelist.net/anime/2945/Hitozuma_Ry...</td>\n",
       "    </tr>\n",
       "    <tr>\n",
       "      <th>4</th>\n",
       "      <td>Mekakucity Records</td>\n",
       "      <td>\"Mekakucity Records follows Mekakucity Days, a...</td>\n",
       "      <td>https://myanimelist.net/anime/36494/Mekakucity...</td>\n",
       "    </tr>\n",
       "    <tr>\n",
       "      <th>...</th>\n",
       "      <td>...</td>\n",
       "      <td>...</td>\n",
       "      <td>...</td>\n",
       "    </tr>\n",
       "    <tr>\n",
       "      <th>341</th>\n",
       "      <td>DC Super Heroes vs Taka no Tsume-dan</td>\n",
       "      <td>Joker has come to Japan to steal the Eagle Tal...</td>\n",
       "      <td>https://myanimelist.net/anime/35219/DC_Super_H...</td>\n",
       "    </tr>\n",
       "    <tr>\n",
       "      <th>342</th>\n",
       "      <td>Bokura wa Minna Kawai-sou</td>\n",
       "      <td>Kazunari Usa is a high school freshman who wil...</td>\n",
       "      <td>https://myanimelist.net/anime/21405/Bokura_wa_...</td>\n",
       "    </tr>\n",
       "    <tr>\n",
       "      <th>343</th>\n",
       "      <td>Kotarou wa Hitorigurashi</td>\n",
       "      <td>\"The \"\"apartment comedy with laughs and tears\"...</td>\n",
       "      <td>https://myanimelist.net/anime/49909/Kotarou_wa...</td>\n",
       "    </tr>\n",
       "    <tr>\n",
       "      <th>344</th>\n",
       "      <td>Yume no Crayon Oukoku</td>\n",
       "      <td>The civilians of the Crayon Kingdom have alway...</td>\n",
       "      <td>https://myanimelist.net/anime/4651/Yume_no_Cra...</td>\n",
       "    </tr>\n",
       "    <tr>\n",
       "      <th>345</th>\n",
       "      <td>Ontama!</td>\n",
       "      <td>Ichigo is a little girl who is distressed by t...</td>\n",
       "      <td>https://myanimelist.net/anime/6890/Ontama\\n</td>\n",
       "    </tr>\n",
       "  </tbody>\n",
       "</table>\n",
       "<p>346 rows × 3 columns</p>\n",
       "</div>"
      ],
      "text/plain": [
       "                               animeTitle  \\\n",
       "0                               Super Cub   \n",
       "1                     Mahoutsukai Sally 2   \n",
       "2             Nezha Zhi Mo Tong Jiang Shi   \n",
       "3              Hitozuma Ryoujoku Sankanbi   \n",
       "4                      Mekakucity Records   \n",
       "..                                    ...   \n",
       "341  DC Super Heroes vs Taka no Tsume-dan   \n",
       "342             Bokura wa Minna Kawai-sou   \n",
       "343              Kotarou wa Hitorigurashi   \n",
       "344                 Yume no Crayon Oukoku   \n",
       "345                               Ontama!   \n",
       "\n",
       "                                      animeDescription  \\\n",
       "0    Koguma, a reserved second-year high school stu...   \n",
       "1    During Sally's coronation ceremony in the magi...   \n",
       "2    From the heavenly object known as the Chaos Pe...   \n",
       "3    Three wives are required to attend a parent/te...   \n",
       "4    \"Mekakucity Records follows Mekakucity Days, a...   \n",
       "..                                                 ...   \n",
       "341  Joker has come to Japan to steal the Eagle Tal...   \n",
       "342  Kazunari Usa is a high school freshman who wil...   \n",
       "343  \"The \"\"apartment comedy with laughs and tears\"...   \n",
       "344  The civilians of the Crayon Kingdom have alway...   \n",
       "345  Ichigo is a little girl who is distressed by t...   \n",
       "\n",
       "                                                   Url  \n",
       "0      https://myanimelist.net/anime/40685/Super_Cub\\n  \n",
       "1    https://myanimelist.net/anime/3875/Mahoutsukai...  \n",
       "2    https://myanimelist.net/anime/40111/Nezha_Zhi_...  \n",
       "3    https://myanimelist.net/anime/2945/Hitozuma_Ry...  \n",
       "4    https://myanimelist.net/anime/36494/Mekakucity...  \n",
       "..                                                 ...  \n",
       "341  https://myanimelist.net/anime/35219/DC_Super_H...  \n",
       "342  https://myanimelist.net/anime/21405/Bokura_wa_...  \n",
       "343  https://myanimelist.net/anime/49909/Kotarou_wa...  \n",
       "344  https://myanimelist.net/anime/4651/Yume_no_Cra...  \n",
       "345        https://myanimelist.net/anime/6890/Ontama\\n  \n",
       "\n",
       "[346 rows x 3 columns]"
      ]
     },
     "metadata": {},
     "output_type": "display_data"
    }
   ],
   "source": [
    "# Run conjunctive query and print the result in a table format - example 3\n",
    "docs = q.conjunctive_query(porter)\n",
    "q.print_tables(docs, path, \"\")"
   ]
  },
  {
   "cell_type": "markdown",
   "id": "7a64a17a",
   "metadata": {
    "id": "7a64a17a"
   },
   "source": [
    "### *2.2* **Conjunctive query & Ranking score**"
   ]
  },
  {
   "cell_type": "markdown",
   "id": "gA3lDZCMW_-5",
   "metadata": {
    "id": "gA3lDZCMW_-5"
   },
   "source": [
    "We compute the *tfIdf* score and the *cosine similarity*.\n",
    "\n",
    "The **cosine similarity** is given by:\n",
    "\n",
    "$cos(q, d^{i}) = \\frac{\\sum_{j=1}^{d}{tfIdf_{ij}}}{||d^{i}||_{2}}$\n",
    "\n",
    "where $q$ is the provided query, $d^{i}$ is the $i^{th}$ document and $j$ are the words in the query that are in the document.\n",
    "\n"
   ]
  },
  {
   "cell_type": "code",
   "execution_count": 5,
   "id": "a6c4210c",
   "metadata": {
    "id": "a6c4210c",
    "outputId": "eda1123c-0246-4d5e-a727-6506109b93d3"
   },
   "outputs": [
    {
     "name": "stdout",
     "output_type": "stream",
     "text": [
      "Search keys - conjunctive query : saiyan race\n"
     ]
    },
    {
     "data": {
      "text/html": [
       "<div>\n",
       "<style scoped>\n",
       "    .dataframe tbody tr th:only-of-type {\n",
       "        vertical-align: middle;\n",
       "    }\n",
       "\n",
       "    .dataframe tbody tr th {\n",
       "        vertical-align: top;\n",
       "    }\n",
       "\n",
       "    .dataframe thead th {\n",
       "        text-align: right;\n",
       "    }\n",
       "</style>\n",
       "<table border=\"1\" class=\"dataframe\">\n",
       "  <thead>\n",
       "    <tr style=\"text-align: right;\">\n",
       "      <th></th>\n",
       "      <th>animeTitle</th>\n",
       "      <th>animeDescription</th>\n",
       "      <th>Url</th>\n",
       "      <th>Similarity</th>\n",
       "    </tr>\n",
       "  </thead>\n",
       "  <tbody>\n",
       "    <tr>\n",
       "      <th>0</th>\n",
       "      <td>Dragon Ball Z Special 1: Tatta Hitori no Saish...</td>\n",
       "      <td>Bardock, Son Goku's father, is a low-ranking S...</td>\n",
       "      <td>https://myanimelist.net/anime/986/Dragon_Ball_...</td>\n",
       "      <td>0.21109</td>\n",
       "    </tr>\n",
       "    <tr>\n",
       "      <th>1</th>\n",
       "      <td>Dragon Ball Super: Broly</td>\n",
       "      <td>Forty-one years ago on Planet Vegeta, home of ...</td>\n",
       "      <td>https://myanimelist.net/anime/36946/Dragon_Bal...</td>\n",
       "      <td>0.06115</td>\n",
       "    </tr>\n",
       "    <tr>\n",
       "      <th>2</th>\n",
       "      <td>Dragon Ball Z</td>\n",
       "      <td>Five years after winning the World Martial Art...</td>\n",
       "      <td>https://myanimelist.net/anime/813/Dragon_Ball_Z\\n</td>\n",
       "      <td>0.05138</td>\n",
       "    </tr>\n",
       "    <tr>\n",
       "      <th>3</th>\n",
       "      <td>Dragon Ball Kai</td>\n",
       "      <td>Five years after the events of Dragon Ball, ma...</td>\n",
       "      <td>https://myanimelist.net/anime/6033/Dragon_Ball...</td>\n",
       "      <td>0.04113</td>\n",
       "    </tr>\n",
       "  </tbody>\n",
       "</table>\n",
       "</div>"
      ],
      "text/plain": [
       "                                          animeTitle  \\\n",
       "0  Dragon Ball Z Special 1: Tatta Hitori no Saish...   \n",
       "1                           Dragon Ball Super: Broly   \n",
       "2                                      Dragon Ball Z   \n",
       "3                                    Dragon Ball Kai   \n",
       "\n",
       "                                    animeDescription  \\\n",
       "0  Bardock, Son Goku's father, is a low-ranking S...   \n",
       "1  Forty-one years ago on Planet Vegeta, home of ...   \n",
       "2  Five years after winning the World Martial Art...   \n",
       "3  Five years after the events of Dragon Ball, ma...   \n",
       "\n",
       "                                                 Url  Similarity  \n",
       "0  https://myanimelist.net/anime/986/Dragon_Ball_...     0.21109  \n",
       "1  https://myanimelist.net/anime/36946/Dragon_Bal...     0.06115  \n",
       "2  https://myanimelist.net/anime/813/Dragon_Ball_Z\\n     0.05138  \n",
       "3  https://myanimelist.net/anime/6033/Dragon_Ball...     0.04113  "
      ]
     },
     "metadata": {},
     "output_type": "display_data"
    }
   ],
   "source": [
    "# Run conjunctive query and print the ranked results as table\n",
    "# We choose to print the top 5 results\n",
    "top = q.cosine_similarity_rank(porter, 5)\n",
    "q.print_tables(top, path, \"tfIdf\")"
   ]
  },
  {
   "cell_type": "code",
   "execution_count": 6,
   "id": "02ef3e04",
   "metadata": {},
   "outputs": [
    {
     "name": "stdout",
     "output_type": "stream",
     "text": [
      "Search keys - conjunctive query : criminals and detectives\n"
     ]
    },
    {
     "data": {
      "text/html": [
       "<div>\n",
       "<style scoped>\n",
       "    .dataframe tbody tr th:only-of-type {\n",
       "        vertical-align: middle;\n",
       "    }\n",
       "\n",
       "    .dataframe tbody tr th {\n",
       "        vertical-align: top;\n",
       "    }\n",
       "\n",
       "    .dataframe thead th {\n",
       "        text-align: right;\n",
       "    }\n",
       "</style>\n",
       "<table border=\"1\" class=\"dataframe\">\n",
       "  <thead>\n",
       "    <tr style=\"text-align: right;\">\n",
       "      <th></th>\n",
       "      <th>animeTitle</th>\n",
       "      <th>animeDescription</th>\n",
       "      <th>Url</th>\n",
       "      <th>Similarity</th>\n",
       "    </tr>\n",
       "  </thead>\n",
       "  <tbody>\n",
       "    <tr>\n",
       "      <th>0</th>\n",
       "      <td>Meitantei Conan: Hannin no Hanzawa-san</td>\n",
       "      <td>\"Anime adaptation of the spin-off manga Meitan...</td>\n",
       "      <td>https://myanimelist.net/anime/50010/Meitantei_...</td>\n",
       "      <td>0.16008</td>\n",
       "    </tr>\n",
       "    <tr>\n",
       "      <th>1</th>\n",
       "      <td>Naikaku Kenryoku Hanzai Kyousei Torishimarikan...</td>\n",
       "      <td>Based on Ken Kitashiba &amp; Yasuhiro Watanabe's p...</td>\n",
       "      <td>https://myanimelist.net/anime/1740/Naikaku_Ken...</td>\n",
       "      <td>0.12768</td>\n",
       "    </tr>\n",
       "    <tr>\n",
       "      <th>2</th>\n",
       "      <td>Death Note</td>\n",
       "      <td>A shinigami, as a god of death, can kill any p...</td>\n",
       "      <td>https://myanimelist.net/anime/1535/Death_Note\\n</td>\n",
       "      <td>0.12545</td>\n",
       "    </tr>\n",
       "    <tr>\n",
       "      <th>3</th>\n",
       "      <td>Kamisama no Memochou</td>\n",
       "      <td>\"Narumi Fujishima may seem like a normal high ...</td>\n",
       "      <td>https://myanimelist.net/anime/10568/Kamisama_n...</td>\n",
       "      <td>0.12141</td>\n",
       "    </tr>\n",
       "    <tr>\n",
       "      <th>4</th>\n",
       "      <td>F-Zero: Falcon Densetsu</td>\n",
       "      <td>Rick Wheeler was a police detective who got in...</td>\n",
       "      <td>https://myanimelist.net/anime/3101/F-Zero__Fal...</td>\n",
       "      <td>0.10446</td>\n",
       "    </tr>\n",
       "  </tbody>\n",
       "</table>\n",
       "</div>"
      ],
      "text/plain": [
       "                                          animeTitle  \\\n",
       "0             Meitantei Conan: Hannin no Hanzawa-san   \n",
       "1  Naikaku Kenryoku Hanzai Kyousei Torishimarikan...   \n",
       "2                                         Death Note   \n",
       "3                               Kamisama no Memochou   \n",
       "4                            F-Zero: Falcon Densetsu   \n",
       "\n",
       "                                    animeDescription  \\\n",
       "0  \"Anime adaptation of the spin-off manga Meitan...   \n",
       "1  Based on Ken Kitashiba & Yasuhiro Watanabe's p...   \n",
       "2  A shinigami, as a god of death, can kill any p...   \n",
       "3  \"Narumi Fujishima may seem like a normal high ...   \n",
       "4  Rick Wheeler was a police detective who got in...   \n",
       "\n",
       "                                                 Url  Similarity  \n",
       "0  https://myanimelist.net/anime/50010/Meitantei_...     0.16008  \n",
       "1  https://myanimelist.net/anime/1740/Naikaku_Ken...     0.12768  \n",
       "2    https://myanimelist.net/anime/1535/Death_Note\\n     0.12545  \n",
       "3  https://myanimelist.net/anime/10568/Kamisama_n...     0.12141  \n",
       "4  https://myanimelist.net/anime/3101/F-Zero__Fal...     0.10446  "
      ]
     },
     "metadata": {},
     "output_type": "display_data"
    }
   ],
   "source": [
    "# Run conjunctive query and print the ranked results as table - example 2\n",
    "# We choose to print the top 5 results\n",
    "top = q.cosine_similarity_rank(porter, 5)\n",
    "q.print_tables(top, path, \"tfIdf\")"
   ]
  },
  {
   "cell_type": "code",
   "execution_count": 7,
   "id": "c3a77794",
   "metadata": {},
   "outputs": [
    {
     "name": "stdout",
     "output_type": "stream",
     "text": [
      "Search keys - conjunctive query : parents\n"
     ]
    },
    {
     "data": {
      "text/html": [
       "<div>\n",
       "<style scoped>\n",
       "    .dataframe tbody tr th:only-of-type {\n",
       "        vertical-align: middle;\n",
       "    }\n",
       "\n",
       "    .dataframe tbody tr th {\n",
       "        vertical-align: top;\n",
       "    }\n",
       "\n",
       "    .dataframe thead th {\n",
       "        text-align: right;\n",
       "    }\n",
       "</style>\n",
       "<table border=\"1\" class=\"dataframe\">\n",
       "  <thead>\n",
       "    <tr style=\"text-align: right;\">\n",
       "      <th></th>\n",
       "      <th>animeTitle</th>\n",
       "      <th>animeDescription</th>\n",
       "      <th>Url</th>\n",
       "      <th>Similarity</th>\n",
       "    </tr>\n",
       "  </thead>\n",
       "  <tbody>\n",
       "    <tr>\n",
       "      <th>0</th>\n",
       "      <td>Ultraman Kids: Haha wo Tazunete 3000-man Kounen</td>\n",
       "      <td>Ultraman Kids go on a journey to search for th...</td>\n",
       "      <td>https://myanimelist.net/anime/8753/Ultraman_Ki...</td>\n",
       "      <td>0.33387</td>\n",
       "    </tr>\n",
       "    <tr>\n",
       "      <th>1</th>\n",
       "      <td>Kateikyoushi no Oneesan 2 The Animation: H no ...</td>\n",
       "      <td>Touya's days with his tutors continue as his p...</td>\n",
       "      <td>https://myanimelist.net/anime/9311/Kateikyoush...</td>\n",
       "      <td>0.31856</td>\n",
       "    </tr>\n",
       "    <tr>\n",
       "      <th>2</th>\n",
       "      <td>Ijou Chitai: Jikken Dorei</td>\n",
       "      <td>After her parents died, Konno Azusa inherits h...</td>\n",
       "      <td>https://myanimelist.net/anime/11815/Ijou_Chita...</td>\n",
       "      <td>0.27588</td>\n",
       "    </tr>\n",
       "    <tr>\n",
       "      <th>3</th>\n",
       "      <td>Watashi to Watashi: Futari no Lotte</td>\n",
       "      <td>Outspoken Luise and shy Lotte meet at summer c...</td>\n",
       "      <td>https://myanimelist.net/anime/3691/Watashi_to_...</td>\n",
       "      <td>0.27531</td>\n",
       "    </tr>\n",
       "    <tr>\n",
       "      <th>4</th>\n",
       "      <td>Mamoru Hikitsugu Watashitachi no Kurashi</td>\n",
       "      <td>A young man who has left his parents' home fol...</td>\n",
       "      <td>https://myanimelist.net/anime/42507/Mamoru_Hik...</td>\n",
       "      <td>0.26271</td>\n",
       "    </tr>\n",
       "  </tbody>\n",
       "</table>\n",
       "</div>"
      ],
      "text/plain": [
       "                                          animeTitle  \\\n",
       "0    Ultraman Kids: Haha wo Tazunete 3000-man Kounen   \n",
       "1  Kateikyoushi no Oneesan 2 The Animation: H no ...   \n",
       "2                          Ijou Chitai: Jikken Dorei   \n",
       "3                Watashi to Watashi: Futari no Lotte   \n",
       "4           Mamoru Hikitsugu Watashitachi no Kurashi   \n",
       "\n",
       "                                    animeDescription  \\\n",
       "0  Ultraman Kids go on a journey to search for th...   \n",
       "1  Touya's days with his tutors continue as his p...   \n",
       "2  After her parents died, Konno Azusa inherits h...   \n",
       "3  Outspoken Luise and shy Lotte meet at summer c...   \n",
       "4  A young man who has left his parents' home fol...   \n",
       "\n",
       "                                                 Url  Similarity  \n",
       "0  https://myanimelist.net/anime/8753/Ultraman_Ki...     0.33387  \n",
       "1  https://myanimelist.net/anime/9311/Kateikyoush...     0.31856  \n",
       "2  https://myanimelist.net/anime/11815/Ijou_Chita...     0.27588  \n",
       "3  https://myanimelist.net/anime/3691/Watashi_to_...     0.27531  \n",
       "4  https://myanimelist.net/anime/42507/Mamoru_Hik...     0.26271  "
      ]
     },
     "metadata": {},
     "output_type": "display_data"
    }
   ],
   "source": [
    "# Run conjunctive query and print the ranked results as table - example 3\n",
    "# We choose to print the top 5 results\n",
    "top = q.cosine_similarity_rank(porter, 5)\n",
    "q.print_tables(top, path, \"tfIdf\")"
   ]
  },
  {
   "cell_type": "markdown",
   "id": "31e48a18",
   "metadata": {
    "id": "31e48a18"
   },
   "source": [
    "## *3* **Define a new score!** "
   ]
  },
  {
   "cell_type": "markdown",
   "id": "C0g5yTDDeMVQ",
   "metadata": {
    "id": "C0g5yTDDeMVQ"
   },
   "source": [
    "As our custom scoring function, we decided to implement the following formula:\n",
    "\n",
    "$cos(q, d^{i})*0.5+(1-\\frac{p^{i}}{\\max(p)})*0.25+(\\frac{m^{i}}{\\max(m)})*0.25$\n",
    "\n",
    "Where $p^{i}$ is the **popularity** value of the $i^{th}$ anime and $m^{i}$ is the number of **members** that the $i^{th}$ anime has gotten.\n",
    "\n",
    "With this function we get a new index that is a weighted average of different values. This index doesn't take into account only the cosine similarity but also a *'popularity index'* and a *'members index'*.\n",
    "\n",
    "* The *cosine similarity*, that goes from 0 to 1, has weight 0.5;\n",
    "* The *popularity index* $(1-\\frac{p^{i}}{\\max(p)})$ assigns 0 to the less popular anime and 1 to the most popular one. This index has weight 0.25;\n",
    "* The *members index* $(\\frac{m^{i}}{\\max(m)})$ assigns 0 to the anime with the lowest number of members and 1 to the anime with the highest number.\n",
    "\n",
    "In this way, our new **ranking system** takes care also of the popularity of the anime and the number of members it has. So, the top-k documents that we show are not only the most similar to the query but also the most famous animes that are more likely to be searched.\n",
    "\n"
   ]
  },
  {
   "cell_type": "code",
   "execution_count": 8,
   "id": "743effc5",
   "metadata": {
    "id": "743effc5",
    "outputId": "77829359-f19c-48cd-94a5-d264bbbaf992"
   },
   "outputs": [
    {
     "name": "stdout",
     "output_type": "stream",
     "text": [
      "Search keys - custom query : saiyan race\n"
     ]
    },
    {
     "data": {
      "text/html": [
       "<div>\n",
       "<style scoped>\n",
       "    .dataframe tbody tr th:only-of-type {\n",
       "        vertical-align: middle;\n",
       "    }\n",
       "\n",
       "    .dataframe tbody tr th {\n",
       "        vertical-align: top;\n",
       "    }\n",
       "\n",
       "    .dataframe thead th {\n",
       "        text-align: right;\n",
       "    }\n",
       "</style>\n",
       "<table border=\"1\" class=\"dataframe\">\n",
       "  <thead>\n",
       "    <tr style=\"text-align: right;\">\n",
       "      <th></th>\n",
       "      <th>animeTitle</th>\n",
       "      <th>animeDescription</th>\n",
       "      <th>Url</th>\n",
       "      <th>Similarity</th>\n",
       "    </tr>\n",
       "  </thead>\n",
       "  <tbody>\n",
       "    <tr>\n",
       "      <th>0</th>\n",
       "      <td>Dragon Ball Z</td>\n",
       "      <td>Five years after winning the World Martial Art...</td>\n",
       "      <td>https://myanimelist.net/anime/813/Dragon_Ball_Z\\n</td>\n",
       "      <td>0.30492</td>\n",
       "    </tr>\n",
       "    <tr>\n",
       "      <th>1</th>\n",
       "      <td>Dragon Ball Kai</td>\n",
       "      <td>Five years after the events of Dragon Ball, ma...</td>\n",
       "      <td>https://myanimelist.net/anime/6033/Dragon_Ball...</td>\n",
       "      <td>0.24735</td>\n",
       "    </tr>\n",
       "    <tr>\n",
       "      <th>2</th>\n",
       "      <td>Dragon Ball Super: Broly</td>\n",
       "      <td>Forty-one years ago on Planet Vegeta, home of ...</td>\n",
       "      <td>https://myanimelist.net/anime/36946/Dragon_Bal...</td>\n",
       "      <td>0.23324</td>\n",
       "    </tr>\n",
       "    <tr>\n",
       "      <th>3</th>\n",
       "      <td>Dragon Ball Z Special 1: Tatta Hitori no Saish...</td>\n",
       "      <td>Bardock, Son Goku's father, is a low-ranking S...</td>\n",
       "      <td>https://myanimelist.net/anime/986/Dragon_Ball_...</td>\n",
       "      <td>0.12806</td>\n",
       "    </tr>\n",
       "  </tbody>\n",
       "</table>\n",
       "</div>"
      ],
      "text/plain": [
       "                                          animeTitle  \\\n",
       "0                                      Dragon Ball Z   \n",
       "1                                    Dragon Ball Kai   \n",
       "2                           Dragon Ball Super: Broly   \n",
       "3  Dragon Ball Z Special 1: Tatta Hitori no Saish...   \n",
       "\n",
       "                                    animeDescription  \\\n",
       "0  Five years after winning the World Martial Art...   \n",
       "1  Five years after the events of Dragon Ball, ma...   \n",
       "2  Forty-one years ago on Planet Vegeta, home of ...   \n",
       "3  Bardock, Son Goku's father, is a low-ranking S...   \n",
       "\n",
       "                                                 Url  Similarity  \n",
       "0  https://myanimelist.net/anime/813/Dragon_Ball_Z\\n     0.30492  \n",
       "1  https://myanimelist.net/anime/6033/Dragon_Ball...     0.24735  \n",
       "2  https://myanimelist.net/anime/36946/Dragon_Bal...     0.23324  \n",
       "3  https://myanimelist.net/anime/986/Dragon_Ball_...     0.12806  "
      ]
     },
     "metadata": {},
     "output_type": "display_data"
    }
   ],
   "source": [
    "# Run conjunctive query and print the ranked results as table\n",
    "top = q.custom_rank(porter, 5)\n",
    "q.print_tables(top, path, \"tfIdf\")"
   ]
  },
  {
   "cell_type": "markdown",
   "id": "1aC5wjuXifSP",
   "metadata": {
    "id": "1aC5wjuXifSP"
   },
   "source": [
    "The results are quite different from the last query. \n",
    "\n",
    "Now, the first anime is **Dragon Ball Z**, because even though it doesn't have an high cosine similarity with the query, it is the most famous anime related to *'sayian race'*. **Dragon Ball Super: Broly** is now the third placed, due to the fact that is less famous than the others.\n",
    "\n",
    "We think that these results can be more useful to the users, because we show them first the most famouses anime related with the query and not the ones that are similar. The most famouses anime are more likely to be searched and they attract more people."
   ]
  },
  {
   "cell_type": "code",
   "execution_count": 9,
   "id": "8e7cdbbc",
   "metadata": {},
   "outputs": [
    {
     "name": "stdout",
     "output_type": "stream",
     "text": [
      "Search keys - custom query : criminals and detectives\n"
     ]
    },
    {
     "data": {
      "text/html": [
       "<div>\n",
       "<style scoped>\n",
       "    .dataframe tbody tr th:only-of-type {\n",
       "        vertical-align: middle;\n",
       "    }\n",
       "\n",
       "    .dataframe tbody tr th {\n",
       "        vertical-align: top;\n",
       "    }\n",
       "\n",
       "    .dataframe thead th {\n",
       "        text-align: right;\n",
       "    }\n",
       "</style>\n",
       "<table border=\"1\" class=\"dataframe\">\n",
       "  <thead>\n",
       "    <tr style=\"text-align: right;\">\n",
       "      <th></th>\n",
       "      <th>animeTitle</th>\n",
       "      <th>animeDescription</th>\n",
       "      <th>Url</th>\n",
       "      <th>Similarity</th>\n",
       "    </tr>\n",
       "  </thead>\n",
       "  <tbody>\n",
       "    <tr>\n",
       "      <th>0</th>\n",
       "      <td>Death Note</td>\n",
       "      <td>A shinigami, as a god of death, can kill any p...</td>\n",
       "      <td>https://myanimelist.net/anime/1535/Death_Note\\n</td>\n",
       "      <td>0.43726</td>\n",
       "    </tr>\n",
       "    <tr>\n",
       "      <th>1</th>\n",
       "      <td>Yuu☆Yuu☆Hakusho</td>\n",
       "      <td>One fateful day, Yuusuke Urameshi, a 14-year-o...</td>\n",
       "      <td>https://myanimelist.net/anime/392/Yuu☆Yuu☆Haku...</td>\n",
       "      <td>0.25212</td>\n",
       "    </tr>\n",
       "    <tr>\n",
       "      <th>2</th>\n",
       "      <td>Detective Conan</td>\n",
       "      <td>Shinichi Kudou, a high school student of astou...</td>\n",
       "      <td>https://myanimelist.net/anime/235/Detective_Co...</td>\n",
       "      <td>0.21890</td>\n",
       "    </tr>\n",
       "    <tr>\n",
       "      <th>3</th>\n",
       "      <td>Id:Invaded</td>\n",
       "      <td>\"The Mizuhanome System is a highly advanced de...</td>\n",
       "      <td>https://myanimelist.net/anime/40046/Id_Invaded\\n</td>\n",
       "      <td>0.21248</td>\n",
       "    </tr>\n",
       "    <tr>\n",
       "      <th>4</th>\n",
       "      <td>Yuukoku no Moriarty 2nd Season</td>\n",
       "      <td>\"Great Britain is ablaze with news of a so-cal...</td>\n",
       "      <td>https://myanimelist.net/anime/43325/Yuukoku_no...</td>\n",
       "      <td>0.20477</td>\n",
       "    </tr>\n",
       "  </tbody>\n",
       "</table>\n",
       "</div>"
      ],
      "text/plain": [
       "                       animeTitle  \\\n",
       "0                      Death Note   \n",
       "1                 Yuu☆Yuu☆Hakusho   \n",
       "2                 Detective Conan   \n",
       "3                      Id:Invaded   \n",
       "4  Yuukoku no Moriarty 2nd Season   \n",
       "\n",
       "                                    animeDescription  \\\n",
       "0  A shinigami, as a god of death, can kill any p...   \n",
       "1  One fateful day, Yuusuke Urameshi, a 14-year-o...   \n",
       "2  Shinichi Kudou, a high school student of astou...   \n",
       "3  \"The Mizuhanome System is a highly advanced de...   \n",
       "4  \"Great Britain is ablaze with news of a so-cal...   \n",
       "\n",
       "                                                 Url  Similarity  \n",
       "0    https://myanimelist.net/anime/1535/Death_Note\\n     0.43726  \n",
       "1  https://myanimelist.net/anime/392/Yuu☆Yuu☆Haku...     0.25212  \n",
       "2  https://myanimelist.net/anime/235/Detective_Co...     0.21890  \n",
       "3   https://myanimelist.net/anime/40046/Id_Invaded\\n     0.21248  \n",
       "4  https://myanimelist.net/anime/43325/Yuukoku_no...     0.20477  "
      ]
     },
     "metadata": {},
     "output_type": "display_data"
    }
   ],
   "source": [
    "# Run conjunctive query and print the ranked results as table - example 2\n",
    "top = q.custom_rank(porter, 5)\n",
    "q.print_tables(top, path, \"tfIdf\")"
   ]
  },
  {
   "cell_type": "code",
   "execution_count": 10,
   "id": "3e3b61cc",
   "metadata": {},
   "outputs": [
    {
     "name": "stdout",
     "output_type": "stream",
     "text": [
      "Search keys - custom query : parents\n"
     ]
    },
    {
     "data": {
      "text/html": [
       "<div>\n",
       "<style scoped>\n",
       "    .dataframe tbody tr th:only-of-type {\n",
       "        vertical-align: middle;\n",
       "    }\n",
       "\n",
       "    .dataframe tbody tr th {\n",
       "        vertical-align: top;\n",
       "    }\n",
       "\n",
       "    .dataframe thead th {\n",
       "        text-align: right;\n",
       "    }\n",
       "</style>\n",
       "<table border=\"1\" class=\"dataframe\">\n",
       "  <thead>\n",
       "    <tr style=\"text-align: right;\">\n",
       "      <th></th>\n",
       "      <th>animeTitle</th>\n",
       "      <th>animeDescription</th>\n",
       "      <th>Url</th>\n",
       "      <th>Similarity</th>\n",
       "    </tr>\n",
       "  </thead>\n",
       "  <tbody>\n",
       "    <tr>\n",
       "      <th>0</th>\n",
       "      <td>FLCL</td>\n",
       "      <td>Naota Nandaba is an ordinary sixth grader livi...</td>\n",
       "      <td>https://myanimelist.net/anime/227/FLCL\\n</td>\n",
       "      <td>0.28813</td>\n",
       "    </tr>\n",
       "    <tr>\n",
       "      <th>1</th>\n",
       "      <td>Mushoku Tensei: Isekai Ittara Honki Dasu</td>\n",
       "      <td>Despite being bullied, scorned, and oppressed ...</td>\n",
       "      <td>https://myanimelist.net/anime/39535/Mushoku_Te...</td>\n",
       "      <td>0.28172</td>\n",
       "    </tr>\n",
       "    <tr>\n",
       "      <th>2</th>\n",
       "      <td>Monster Musume no Iru Nichijou</td>\n",
       "      <td>\"With his parents abroad, Kimihito Kurusu live...</td>\n",
       "      <td>https://myanimelist.net/anime/30307/Monster_Mu...</td>\n",
       "      <td>0.27816</td>\n",
       "    </tr>\n",
       "    <tr>\n",
       "      <th>3</th>\n",
       "      <td>Kekkai Sensen</td>\n",
       "      <td>\"Supersonic monkeys, vampires, talking fishmen...</td>\n",
       "      <td>https://myanimelist.net/anime/24439/Kekkai_Sen...</td>\n",
       "      <td>0.27636</td>\n",
       "    </tr>\n",
       "    <tr>\n",
       "      <th>4</th>\n",
       "      <td>Eromanga-sensei</td>\n",
       "      <td>One year ago, Sagiri Izumi became step-sibling...</td>\n",
       "      <td>https://myanimelist.net/anime/32901/Eromanga-s...</td>\n",
       "      <td>0.27356</td>\n",
       "    </tr>\n",
       "  </tbody>\n",
       "</table>\n",
       "</div>"
      ],
      "text/plain": [
       "                                 animeTitle  \\\n",
       "0                                      FLCL   \n",
       "1  Mushoku Tensei: Isekai Ittara Honki Dasu   \n",
       "2            Monster Musume no Iru Nichijou   \n",
       "3                             Kekkai Sensen   \n",
       "4                           Eromanga-sensei   \n",
       "\n",
       "                                    animeDescription  \\\n",
       "0  Naota Nandaba is an ordinary sixth grader livi...   \n",
       "1  Despite being bullied, scorned, and oppressed ...   \n",
       "2  \"With his parents abroad, Kimihito Kurusu live...   \n",
       "3  \"Supersonic monkeys, vampires, talking fishmen...   \n",
       "4  One year ago, Sagiri Izumi became step-sibling...   \n",
       "\n",
       "                                                 Url  Similarity  \n",
       "0           https://myanimelist.net/anime/227/FLCL\\n     0.28813  \n",
       "1  https://myanimelist.net/anime/39535/Mushoku_Te...     0.28172  \n",
       "2  https://myanimelist.net/anime/30307/Monster_Mu...     0.27816  \n",
       "3  https://myanimelist.net/anime/24439/Kekkai_Sen...     0.27636  \n",
       "4  https://myanimelist.net/anime/32901/Eromanga-s...     0.27356  "
      ]
     },
     "metadata": {},
     "output_type": "display_data"
    }
   ],
   "source": [
    "# Run conjunctive query and print the ranked results as table - example 3\n",
    "top = q.custom_rank(porter, 5)\n",
    "q.print_tables(top, path, \"tfIdf\")"
   ]
  },
  {
   "cell_type": "markdown",
   "id": "lLJr31UoVZr6",
   "metadata": {
    "id": "lLJr31UoVZr6"
   },
   "source": [
    "## *5* **Algorithmic question**"
   ]
  },
  {
   "cell_type": "markdown",
   "id": "aebfbe14-696e-40df-86a6-bc750bbbb583",
   "metadata": {
    "id": "aebfbe14-696e-40df-86a6-bc750bbbb583"
   },
   "source": [
    "You consult for a personal trainer who has a *back-to-back sequence* of requests for appointment. A sequence of requests is of the form > 30, 40, 25, 50, 30, 20 where each number is the time that the person who makes the appointment wants to spend. You need to accept some requests, however you need a break between them, so you cannot accept two consecutive requests. For example, `[30, 50, 20]` is an acceptable solution (of duration *100*), but `[30, 40, 50, 20]` is not because *30* and *40* are two consecutive appointments. Your goal is to provide to the personal trainer a schedule that maximizes the total lenght of the accepted appointments. For example, in the previous instance, the optimal solution is `[40, 50, 20]`, of total duration *110*.\n",
    "1. Write an algorithm that computes the acceptable solution with the longest possible duration.\n",
    "2. Implement a program that given in input an instance in the form given above, gives the optimal solution."
   ]
  },
  {
   "cell_type": "markdown",
   "id": "1969a913-0e16-4fb6-8a01-8a5f208a1161",
   "metadata": {
    "id": "1969a913-0e16-4fb6-8a01-8a5f208a1161"
   },
   "source": [
    "#### *1* Write an algorithm that computes the acceptable solution with the longest possible duration. "
   ]
  },
  {
   "cell_type": "markdown",
   "id": "096175ff-85c8-41cd-b98a-71a1ddd30c5c",
   "metadata": {
    "id": "096175ff-85c8-41cd-b98a-71a1ddd30c5c"
   },
   "source": [
    "\n",
    "        Input:\n",
    "            A: array of length n\n",
    "\n",
    "        function alg(A):\n",
    "            S <- array of length n to memorize all the sums\n",
    "            dict = {}\n",
    "            for i in n:\n",
    "                S[i] = max(S[i-1], S[i-2] + A[i])\n",
    "                if max(S[i-1], S[i-2] + A[i]) == (S[i-2] + A[i]):\n",
    "                    dict[S[i-2], A[i]] = S[i]\n",
    "            list <- list containing the number of the optimal solution\n",
    "            individual <- 2nd index of the keys\n",
    "            cumulative <- 1st index of the keys\n",
    "            \n",
    "            Extract all the individual values and \n",
    "            list.append(individual)\n",
    "\n",
    "            return A, list"
   ]
  },
  {
   "cell_type": "markdown",
   "id": "646f8a81-209c-4c1e-852a-6f6b8134e898",
   "metadata": {
    "id": "646f8a81-209c-4c1e-852a-6f6b8134e898"
   },
   "source": [
    "#### 2. Implement a program that given in input an instance in the form given above, gives the optimal solution."
   ]
  },
  {
   "cell_type": "code",
   "execution_count": null,
   "id": "b09a3251-5cc9-4eb4-9333-710b8fb634c9",
   "metadata": {
    "id": "b09a3251-5cc9-4eb4-9333-710b8fb634c9"
   },
   "outputs": [],
   "source": [
    "def my_schedule(array):\n",
    "    # Create an array we can use to memorize sums\n",
    "    S = [0 for j in range(len(array))]\n",
    "    \n",
    "    # Create a dictionary to store all the accepted appointments\n",
    "    accepted = dict()\n",
    "    \n",
    "    for i in range(len(array)):\n",
    "        # Memorize the maximum non consecutive sum between elements in the array\n",
    "        # It chooses between the last maximum sum and the one updated \n",
    "        # with the i-th element.\n",
    "        S[i] = max(S[i-1], S[i-2] + array[i])\n",
    "        \n",
    "        # Add the accepted appointment\n",
    "        if max(S[i-1], S[i-2] + array[i]) == (S[i-2] + array[i]):\n",
    "            accepted[S[i-2], array[i]] = S[i]\n",
    "            \n",
    "    # Retrieving the numbers that produce the optimal solution\n",
    "    \n",
    "    # List that contains the number that produce the optimal solution\n",
    "    list_of_success = []\n",
    "    \n",
    "    # Defining the max value of the dictionary to start the while loop\n",
    "    max_value = max(accepted.values())\n",
    "    \n",
    "    # Defining a stop clause which is the cumulative sum or the 1st index of the keys\n",
    "    stop_clause = list(accepted.keys())[list(accepted.values()).index(max_value)][0]\n",
    "    \n",
    "    # Stop until the cumulative value is equal to zero, which means we finished the list\n",
    "    while stop_clause != 0:\n",
    "        \n",
    "        # Suppose we have an entry of a dictionary that is (130, 110): 240\n",
    "        # Define the first index of the key, i.e. 130, as the cumulative number\n",
    "        # Define the second index of the key, i.e. 110, as the individual number\n",
    "        \n",
    "        individual_value = list(accepted.keys())[list(accepted.values()).index(max_value)][1]\n",
    "        cumulative_value = list(accepted.keys())[list(accepted.values()).index(max_value)][0]\n",
    "        \n",
    "        # We append the individual value to the list, since this number is part of the optimal solution\n",
    "        list_of_success.append(individual_value)\n",
    "        \n",
    "        # Redefine the max value as\n",
    "        max_value = cumulative_value\n",
    "        stop_clause = cumulative_value\n",
    "        \n",
    "    # Reversing the list that contains the numbers of the optimal solution,\n",
    "    # so they appear in the original order.\n",
    "    list_of_success.reverse()\n",
    "    \n",
    "    return S[-1], list_of_success"
   ]
  },
  {
   "cell_type": "code",
   "execution_count": null,
   "id": "43628f75-214f-44eb-909c-cd997057bf6e",
   "metadata": {
    "id": "43628f75-214f-44eb-909c-cd997057bf6e"
   },
   "outputs": [],
   "source": [
    "appointments = [30, 40, 25, 50, 30, 20]\n",
    "tot, opt_sol = my_schedule(appointments)\n",
    "print('The optimal solution of accepted appointments is:', opt_sol)\n",
    "print('The total duration of appointments is:', tot)"
   ]
  },
  {
   "cell_type": "code",
   "execution_count": null,
   "id": "848d2694-6597-46f7-88fd-eba496fbfce9",
   "metadata": {
    "id": "848d2694-6597-46f7-88fd-eba496fbfce9"
   },
   "outputs": [],
   "source": [
    "# Try with different lists of appointments\n",
    "app1 = [30, 40, 55, 90, 90, 110]\n",
    "tot, opt_sol = my_schedule(app1)\n",
    "print('The optimal solution of accepted appointments is:', opt_sol)\n",
    "print('The total duration of appointments is:', tot)"
   ]
  },
  {
   "cell_type": "code",
   "execution_count": null,
   "id": "fca70f1c-c08e-4b28-b70f-77396a756674",
   "metadata": {
    "id": "fca70f1c-c08e-4b28-b70f-77396a756674"
   },
   "outputs": [],
   "source": [
    "app2 = [30, 40, 55, 90, 90, 40]\n",
    "tot, opt_sol = my_schedule(app2)\n",
    "print('The optimal solution of accepted appointments is:', opt_sol)\n",
    "print('The total duration of appointments is:', tot)"
   ]
  }
 ],
 "metadata": {
  "colab": {
   "collapsed_sections": [
    "defe2611",
    "lLJr31UoVZr6",
    "aebfbe14-696e-40df-86a6-bc750bbbb583",
    "1969a913-0e16-4fb6-8a01-8a5f208a1161",
    "646f8a81-209c-4c1e-852a-6f6b8134e898"
   ],
   "name": "ADM_HMW_3_group18.ipynb",
   "provenance": []
  },
  "kernelspec": {
   "display_name": "Python 3",
   "language": "python",
   "name": "python3"
  },
  "language_info": {
   "codemirror_mode": {
    "name": "ipython",
    "version": 3
   },
   "file_extension": ".py",
   "mimetype": "text/x-python",
   "name": "python",
   "nbconvert_exporter": "python",
   "pygments_lexer": "ipython3",
   "version": "3.8.8"
  }
 },
 "nbformat": 4,
 "nbformat_minor": 5
}
