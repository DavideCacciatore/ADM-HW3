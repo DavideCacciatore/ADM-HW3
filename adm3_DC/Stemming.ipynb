{
 "cells": [
  {
   "cell_type": "markdown",
   "id": "d6fe03c8",
   "metadata": {},
   "source": [
    "#### Stemming process\n",
    "We can use the nltk package"
   ]
  },
  {
   "cell_type": "markdown",
   "id": "1713c649",
   "metadata": {},
   "source": [
    "1. Take a document as the input\n",
    "2. Read the document\n",
    "3. Tokenize the line\n",
    "5. Output the stemmed words (write to a new file?)\n",
    "6. Repeat step 2 to step 5 until the end of the documents."
   ]
  },
  {
   "cell_type": "code",
   "execution_count": null,
   "id": "70181560",
   "metadata": {},
   "outputs": [],
   "source": [
    "# We need to look at the synopsis of each tsv files"
   ]
  },
  {
   "cell_type": "code",
   "execution_count": 5,
   "id": "df99cab5",
   "metadata": {},
   "outputs": [
    {
     "name": "stdout",
     "output_type": "stream",
     "text": [
      "showing info https://raw.githubusercontent.com/nltk/nltk_data/gh-pages/index.xml\n"
     ]
    },
    {
     "data": {
      "text/plain": [
       "True"
      ]
     },
     "execution_count": 5,
     "metadata": {},
     "output_type": "execute_result"
    }
   ],
   "source": [
    "import nltk\n",
    "nltk.download()"
   ]
  },
  {
   "cell_type": "code",
   "execution_count": 6,
   "id": "41e1e617",
   "metadata": {},
   "outputs": [],
   "source": [
    "# Import packages\n",
    "from nltk.tokenize import sent_tokenize, word_tokenize\n",
    "from nltk.stem import PorterStemmer\n",
    "# We can use the Porter Stemmer classbecause is known for its semplicity and speed.\n",
    "\n",
    "porter = PorterStemmer()\n",
    "\n",
    "def StemSentence(sentence):\n",
    "    token_words = word_tokenize(sentence)\n",
    "    stem_sentence = []\n",
    "    for word in token_words:\n",
    "        stem_sentence.append(porter.stem(word))\n",
    "        stem_sentence.append(' ')\n",
    "    \n",
    "    return ''.join(stem_sentence)"
   ]
  },
  {
   "cell_type": "code",
   "execution_count": 7,
   "id": "bea08316",
   "metadata": {},
   "outputs": [],
   "source": [
    "sentence = (\"After a horrific alchemy experiment goes wrong in the Elric household, brothers Edward and Alphonse are left in a catastrophic new reality. Ignoring the alchemical principle banning human transmutation, the boys attempted to bring their recently deceased mother back to life. Instead, they suffered brutal personal loss: Alphonse's body disintegrated while Edward lost a leg and then sacrificed an arm to keep Alphonse's soul in the physical realm by binding it to a hulking suit of armor.The brothers are rescued by their neighbor Pinako Rockbell and her granddaughter Winry. Known as a bio-mechanical engineering prodigy, Winry creates prosthetic limbs for Edward by utilizing \"\"automail,\"\" a tough, versatile metal used in robots and combat armor. After years of training, the Elric brothers set off on a quest to restore their bodies by locating the Philosopher's Stone—a powerful gem that allows an alchemist to defy the traditional laws of Equivalent Exchange. As Edward becomes an infamous alchemist and gains the nickname Fullmetal, the boys' journey embroils them in a growing conspiracy that threatens the fate of the world.[Written by MAL Rewrite]\")"
   ]
  },
  {
   "cell_type": "code",
   "execution_count": null,
   "id": "9f9fb952",
   "metadata": {},
   "outputs": [],
   "source": [
    "#stem_file = open('name_file', mode = 'a+', encoding = 'utf8')\n",
    "\n",
    "for 'each synopsis' in 'all synopsis':\n",
    "    stem_sentence = stemSentence('each synopsis')\n",
    "    stem_file.write(stem_sentence)\n",
    "    \n",
    "stem_file.close()"
   ]
  },
  {
   "cell_type": "code",
   "execution_count": 8,
   "id": "075262a0",
   "metadata": {},
   "outputs": [
    {
     "data": {
      "text/plain": [
       "\"after a horrif alchemi experi goe wrong in the elric household , brother edward and alphons are left in a catastroph new realiti . ignor the alchem principl ban human transmut , the boy attempt to bring their recent deceas mother back to life . instead , they suffer brutal person loss : alphons 's bodi disintegr while edward lost a leg and then sacrif an arm to keep alphons 's soul in the physic realm by bind it to a hulk suit of armor.th brother are rescu by their neighbor pinako rockbel and her granddaught winri . known as a bio-mechan engin prodigi , winri creat prosthet limb for edward by util automail , a tough , versatil metal use in robot and combat armor . after year of train , the elric brother set off on a quest to restor their bodi by locat the philosoph 's stone—a power gem that allow an alchemist to defi the tradit law of equival exchang . as edward becom an infam alchemist and gain the nicknam fullmet , the boy ' journey embroil them in a grow conspiraci that threaten the fate of the world . [ written by mal rewrit ] \""
      ]
     },
     "execution_count": 8,
     "metadata": {},
     "output_type": "execute_result"
    }
   ],
   "source": [
    "StemSentence(sentence)"
   ]
  }
 ],
 "metadata": {
  "kernelspec": {
   "display_name": "Python 3",
   "language": "python",
   "name": "python3"
  },
  "language_info": {
   "codemirror_mode": {
    "name": "ipython",
    "version": 3
   },
   "file_extension": ".py",
   "mimetype": "text/x-python",
   "name": "python",
   "nbconvert_exporter": "python",
   "pygments_lexer": "ipython3",
   "version": "3.8.8"
  }
 },
 "nbformat": 4,
 "nbformat_minor": 5
}
